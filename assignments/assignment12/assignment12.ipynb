{
 "cells": [
  {
   "cell_type": "markdown",
   "id": "5a112266",
   "metadata": {},
   "source": [
    "# Assignment 12\n",
    "\n",
    "Please fill in blanks in the *Answer* sections of this notebook. To check your answer for a problem, run the Setup, Answer, and Result sections. DO NOT MODIFY SETUP OR RESULT CELLS. See the [README](https://github.com/mortonne/datascipsych) for instructions on setting up a Python environment to run this notebook.\n",
    "\n",
    "Write your answers for each problem. Then restart the kernel, run all cells, and then save the notebook. Upload your notebook to Canvas.\n",
    "\n",
    "If you get stuck, read through the other notebooks in this directory, ask us for help in class, or ask other students for help in class or on the weekly discussion board."
   ]
  },
  {
   "cell_type": "markdown",
   "id": "9bd9f8cc",
   "metadata": {},
   "source": [
    "## Problem: comparing two conditions (6 points)\n",
    "\n",
    "Given the recognition memory dataset (defined below) in `data`, test whether there is a difference in response between targets and lures. \n",
    "\n",
    "The code below carries out the first step of this analysis, by calculating the mean for each subject and trial type. Those means are stored in the `mean_trial_type` DataFrame below.\n",
    "\n",
    "The sub-problems go through the remaining steps of visualizing the data in each condition, calculating summary statistics, and running a t-test to test for a significant effect of trial type. Finally, the last sub-problem involves writing text to describe the results of your analysis. See the sub-problems below for directions."
   ]
  },
  {
   "cell_type": "markdown",
   "id": "b9c119e6",
   "metadata": {},
   "source": [
    "### Setup"
   ]
  },
  {
   "cell_type": "code",
   "execution_count": 1,
   "id": "339b1849",
   "metadata": {},
   "outputs": [
    {
     "data": {
      "text/html": [
       "<div><style>\n",
       ".dataframe > thead > tr,\n",
       ".dataframe > tbody > tr {\n",
       "  text-align: right;\n",
       "  white-space: pre-wrap;\n",
       "}\n",
       "</style>\n",
       "<small>shape: (5, 3)</small><table border=\"1\" class=\"dataframe\"><thead><tr><th>subject</th><th>trial_type</th><th>response</th></tr><tr><td>str</td><td>str</td><td>f64</td></tr></thead><tbody><tr><td>&quot;subj01&quot;</td><td>&quot;lure&quot;</td><td>0.35</td></tr><tr><td>&quot;subj01&quot;</td><td>&quot;target&quot;</td><td>0.566667</td></tr><tr><td>&quot;subj02&quot;</td><td>&quot;lure&quot;</td><td>0.333333</td></tr><tr><td>&quot;subj02&quot;</td><td>&quot;target&quot;</td><td>0.566667</td></tr><tr><td>&quot;subj03&quot;</td><td>&quot;lure&quot;</td><td>0.3</td></tr></tbody></table></div>"
      ],
      "text/plain": [
       "shape: (5, 3)\n",
       "┌─────────┬────────────┬──────────┐\n",
       "│ subject ┆ trial_type ┆ response │\n",
       "│ ---     ┆ ---        ┆ ---      │\n",
       "│ str     ┆ str        ┆ f64      │\n",
       "╞═════════╪════════════╪══════════╡\n",
       "│ subj01  ┆ lure       ┆ 0.35     │\n",
       "│ subj01  ┆ target     ┆ 0.566667 │\n",
       "│ subj02  ┆ lure       ┆ 0.333333 │\n",
       "│ subj02  ┆ target     ┆ 0.566667 │\n",
       "│ subj03  ┆ lure       ┆ 0.3      │\n",
       "└─────────┴────────────┴──────────┘"
      ]
     },
     "execution_count": 1,
     "metadata": {},
     "output_type": "execute_result"
    }
   ],
   "source": [
    "import polars as pl\n",
    "import seaborn as sns\n",
    "import pingouin as pg\n",
    "from IPython.display import display\n",
    "data = pl.read_csv(\"gen_recog2.csv\")\n",
    "mean_trial_type = (\n",
    "    data.group_by(\"subject\", \"trial_type\")\n",
    "    .agg(pl.col(\"response\").mean())\n",
    "    .sort(\"subject\", \"trial_type\")\n",
    ")\n",
    "g1 = None\n",
    "stats_trial_type = None\n",
    "ttest_trial_type = None\n",
    "mean_trial_type.head()"
   ]
  },
  {
   "cell_type": "markdown",
   "id": "0fd6764b",
   "metadata": {},
   "source": [
    "### Answer"
   ]
  },
  {
   "cell_type": "markdown",
   "id": "6c636d9c",
   "metadata": {},
   "source": [
    "#### Visualize means in each condition (2 points)\n",
    "\n",
    "Use the `mean_trial_type` DataFrame to make a bar plot with error bars showing the mean response for targets and lures (1 point). Trial type (targets and lures) should be on the x-axis, and response should be on the y-axis. Assign the output from Seaborn to a variable called `g1`.\n",
    "\n",
    "Write a caption in a Markdown cell under the plot (1 point). See the [Reporting](https://mortonne.github.io/datascipsych/assignments/assignment12/reporting.html) lecture for example captions."
   ]
  },
  {
   "cell_type": "code",
   "execution_count": 2,
   "id": "9a9b1b50",
   "metadata": {},
   "outputs": [],
   "source": [
    "# your code here\n",
    "\n",
    "# this should print your variables\n",
    "if g1 is not None:\n",
    "    print(g1)"
   ]
  },
  {
   "cell_type": "markdown",
   "id": "60caaa14",
   "metadata": {},
   "source": [
    "> Write a caption for your figure. Explain what variables are shown and what the error bars represent.\n",
    "\n",
    "[answer here]"
   ]
  },
  {
   "cell_type": "markdown",
   "id": "872aa31a",
   "metadata": {},
   "source": [
    "#### Calculate summary statistics (1 point)\n",
    "\n",
    "Use the `mean_trial_type` DataFrame to calculate the mean and SEM for the responses in the target and lure conditions. In the DataFrame with the statistics, there should be two columns named `mean` and `sem`. Assign the output to a variable called `stats_trial_type`."
   ]
  },
  {
   "cell_type": "code",
   "execution_count": 3,
   "id": "f9f2cb72",
   "metadata": {},
   "outputs": [],
   "source": [
    "# your code here\n",
    "\n",
    "# this should print your variables\n",
    "if stats_trial_type is not None:\n",
    "    display(stats_trial_type.sort(\"trial_type\"))"
   ]
  },
  {
   "cell_type": "markdown",
   "id": "a584f072",
   "metadata": {},
   "source": [
    "#### Test for a significant difference (1 point)\n",
    "\n",
    "Use the data in the `mean_trial_type` DataFrame to run a paired t-test to test whether there is a significant difference in response between the target and lure conditions. Assign the result to a variable called `ttest_trial_type`. Hint: you will need to make a pivoted DataFrame before running the t-test."
   ]
  },
  {
   "cell_type": "code",
   "execution_count": 4,
   "id": "12502ba9",
   "metadata": {},
   "outputs": [],
   "source": [
    "# your code here\n",
    "\n",
    "# this should print out your variables\n",
    "if ttest_trial_type is not None:\n",
    "    display(ttest_trial_type)"
   ]
  },
  {
   "cell_type": "markdown",
   "id": "1a640772",
   "metadata": {},
   "source": [
    "#### Report the results (2 points)\n",
    "\n",
    "Write text describing the results of your analyses. Report the mean and SEM for each trial type (targets and lures) (0.5 points), the results of the t-test (1 point), and your conclusion about whether there is an effect of trial type on response (0.5 points). See the [Reporting](https://mortonne.github.io/datascipsych/assignments/assignment12/reporting.html) lecture for example text."
   ]
  },
  {
   "cell_type": "markdown",
   "id": "3fba719d",
   "metadata": {},
   "source": [
    "> Please describe your results below.\n",
    "\n",
    "[answer here]"
   ]
  },
  {
   "cell_type": "markdown",
   "id": "61b2ae82",
   "metadata": {},
   "source": [
    "### Result"
   ]
  },
  {
   "cell_type": "code",
   "execution_count": 5,
   "id": "76ddb49c",
   "metadata": {},
   "outputs": [],
   "source": [
    "vars = [g1, stats_trial_type, ttest_trial_type]\n",
    "if all([v is not None for v in vars]):\n",
    "    # this should print your variables\n",
    "    print(g1)\n",
    "    stats_trial_type = stats_trial_type.sort(\"trial_type\")\n",
    "    display(stats_trial_type)\n",
    "    display(ttest_trial_type)\n",
    "    \n",
    "    # this should not throw any errors\n",
    "    assert isinstance(g1, sns.FacetGrid)\n",
    "    assert stats_trial_type[\"mean\"].round(3).equals(pl.Series([0.374, 0.611]))\n",
    "    assert stats_trial_type[\"sem\"].round(3).equals(pl.Series([0.013, 0.015]))\n",
    "    assert round(ttest_trial_type.loc[\"T-test\", \"T\"], 3) == 11.354\n",
    "    assert ttest_trial_type.loc[\"T-test\", \"dof\"] == 29\n",
    "    assert ttest_trial_type.loc[\"T-test\", \"alternative\"] == \"two-sided\""
   ]
  },
  {
   "cell_type": "markdown",
   "id": "82dd06c8",
   "metadata": {},
   "source": [
    "## Problem: comparing three conditions (6 points)\n",
    "\n",
    "Given the recognition memory dataset (defined below) in `data`, test whether there is responses for target trials depend on study time (1, 2, or 4 seconds).\n",
    "\n",
    "The code below carries out the first step of this analysis, by calculating the mean response for target trials, for each subject and study time. Those means are stored in the `mean_study_time` DataFrame below.\n",
    "\n",
    "The sub-problems go through the remaining steps of visualizing the data in each condition, calculating summary statistics, and running an ANOVA to test for a significant effect of study time. Finally, the last sub-problem involves writing text to describe the results of your analysis. See the sub-problems below for directions."
   ]
  },
  {
   "cell_type": "markdown",
   "id": "755d7d86",
   "metadata": {},
   "source": [
    "### Setup"
   ]
  },
  {
   "cell_type": "code",
   "execution_count": 6,
   "id": "2a0631c7",
   "metadata": {},
   "outputs": [
    {
     "data": {
      "text/html": [
       "<div><style>\n",
       ".dataframe > thead > tr,\n",
       ".dataframe > tbody > tr {\n",
       "  text-align: right;\n",
       "  white-space: pre-wrap;\n",
       "}\n",
       "</style>\n",
       "<small>shape: (5, 3)</small><table border=\"1\" class=\"dataframe\"><thead><tr><th>subject</th><th>study_time</th><th>response</th></tr><tr><td>str</td><td>i64</td><td>f64</td></tr></thead><tbody><tr><td>&quot;subj01&quot;</td><td>1</td><td>0.6</td></tr><tr><td>&quot;subj01&quot;</td><td>2</td><td>0.5</td></tr><tr><td>&quot;subj01&quot;</td><td>4</td><td>0.6</td></tr><tr><td>&quot;subj02&quot;</td><td>1</td><td>0.55</td></tr><tr><td>&quot;subj02&quot;</td><td>2</td><td>0.45</td></tr></tbody></table></div>"
      ],
      "text/plain": [
       "shape: (5, 3)\n",
       "┌─────────┬────────────┬──────────┐\n",
       "│ subject ┆ study_time ┆ response │\n",
       "│ ---     ┆ ---        ┆ ---      │\n",
       "│ str     ┆ i64        ┆ f64      │\n",
       "╞═════════╪════════════╪══════════╡\n",
       "│ subj01  ┆ 1          ┆ 0.6      │\n",
       "│ subj01  ┆ 2          ┆ 0.5      │\n",
       "│ subj01  ┆ 4          ┆ 0.6      │\n",
       "│ subj02  ┆ 1          ┆ 0.55     │\n",
       "│ subj02  ┆ 2          ┆ 0.45     │\n",
       "└─────────┴────────────┴──────────┘"
      ]
     },
     "execution_count": 6,
     "metadata": {},
     "output_type": "execute_result"
    }
   ],
   "source": [
    "mean_study_time = (\n",
    "    data.filter(pl.col(\"trial_type\") == \"target\")\n",
    "    .group_by(\"subject\", \"study_time\")\n",
    "    .agg(pl.col(\"response\").mean())\n",
    "    .sort(\"subject\", \"study_time\")\n",
    ")\n",
    "g2 = None\n",
    "stats_study_time = None\n",
    "anova_study_time = None\n",
    "mean_study_time.head()"
   ]
  },
  {
   "cell_type": "markdown",
   "id": "8ed87f92",
   "metadata": {},
   "source": [
    "### Answer"
   ]
  },
  {
   "cell_type": "markdown",
   "id": "e93c6ec8",
   "metadata": {},
   "source": [
    "#### Visualize means in each condition (2 points)\n",
    "\n",
    "Use the `mean_study_time` DataFrame to make a line plot with error bands showing how the mean response varies with study time (1 point). The study time should be on the x-axis, and response should be on the y-axis. Assign the output from Seaborn to a variable called `g2`.\n",
    "\n",
    "Write a caption in a Markdown cell under the plot (1 point). See the [Reporting](https://mortonne.github.io/datascipsych/assignments/assignment12/reporting.html) lecture for example captions."
   ]
  },
  {
   "cell_type": "code",
   "execution_count": 7,
   "id": "568945ab",
   "metadata": {},
   "outputs": [],
   "source": [
    "# your code here\n",
    "\n",
    "# this should print your variables\n",
    "if g2 is not None:\n",
    "    print(g2)"
   ]
  },
  {
   "cell_type": "markdown",
   "id": "f72e99c0",
   "metadata": {},
   "source": [
    "> Write a caption for your figure. Explain what variables are shown and what the error bands represent.\n",
    "\n",
    "[answer here]"
   ]
  },
  {
   "cell_type": "markdown",
   "id": "220f90c5",
   "metadata": {},
   "source": [
    "#### Calculate summary statistics (1 point)\n",
    "\n",
    "Use the `mean_study_time` DataFrame to calculate the mean and SEM for the responses for different study times. In the DataFrame with the statistics, there should be two columns named `mean` and `sem`. Assign the output to a variable called `stats_study_time`."
   ]
  },
  {
   "cell_type": "code",
   "execution_count": 8,
   "id": "89acd5c3",
   "metadata": {},
   "outputs": [],
   "source": [
    "# your code here\n",
    "\n",
    "# this should print your variables\n",
    "if stats_study_time is not None:\n",
    "    display(stats_study_time.sort(\"study_time\"))"
   ]
  },
  {
   "cell_type": "markdown",
   "id": "9609af26",
   "metadata": {},
   "source": [
    "#### Test for a significant difference (1 point)\n",
    "\n",
    "Use the data in the `mean_study_time` DataFrame to run a one-way repeated-measures ANOVA to test whether there is a significant difference in response depending on study time. Assign the result to a variable called `anova_study_time`. Hint: you will need to convert the DataFrame to Pandas format."
   ]
  },
  {
   "cell_type": "code",
   "execution_count": 9,
   "id": "6cce950a",
   "metadata": {},
   "outputs": [],
   "source": [
    "# your code here\n",
    "\n",
    "# this should print out your variables\n",
    "if anova_study_time is not None:\n",
    "    display(anova_study_time)"
   ]
  },
  {
   "cell_type": "markdown",
   "id": "bbfc640f",
   "metadata": {},
   "source": [
    "#### Report the results (2 points)\n",
    "\n",
    "Write text describing the results. Report the mean and SEM for each study time (0.5 points), the results of the ANOVA (1 point), and your conclusion about whether there is an effect of study time on response (0.5 points). See the [Reporting](https://mortonne.github.io/datascipsych/assignments/assignment12/reporting.html) lecture for example text."
   ]
  },
  {
   "cell_type": "markdown",
   "id": "a2248243",
   "metadata": {},
   "source": [
    "> Please describe your results below.\n",
    "\n",
    "[answer here]"
   ]
  },
  {
   "cell_type": "markdown",
   "id": "3a6944a8",
   "metadata": {},
   "source": [
    "### Result"
   ]
  },
  {
   "cell_type": "code",
   "execution_count": 10,
   "id": "a0f64a2a",
   "metadata": {},
   "outputs": [],
   "source": [
    "vars = [g2, stats_study_time, anova_study_time]\n",
    "if all([v is not None for v in vars]):\n",
    "    # this should print your variables\n",
    "    print(g2)\n",
    "    stats_study_time = stats_study_time.sort(\"study_time\")\n",
    "    display(stats_study_time)\n",
    "    display(anova_study_time)\n",
    "    \n",
    "    # this should not throw any errors\n",
    "    assert isinstance(g2, sns.FacetGrid)\n",
    "    assert stats_study_time[\"mean\"].round(3).equals(pl.Series([0.562, 0.618, 0.652]))\n",
    "    assert stats_study_time[\"sem\"].round(3).equals(pl.Series([0.022, 0.022, 0.022]))\n",
    "    assert round(anova_study_time.loc[0, \"F\"], 3) == 5.578\n",
    "    assert anova_study_time.loc[0, \"ddof1\"] == 2\n",
    "    assert anova_study_time.loc[0, \"ddof2\"] == 58"
   ]
  },
  {
   "cell_type": "markdown",
   "id": "a0b515c4",
   "metadata": {},
   "source": [
    "## Problem (graduate students): testing for an interaction (8 points)\n",
    "\n",
    "Given the recognition memory dataset (defined below) in `data`, test whether responses depend on study time (1, 2, or 4 seconds), trial type (target or lure), and an interaction between study time and trial type.\n",
    "\n",
    "The sub-problems go through the steps of calculating means in each condition, visualizing the data in each condition, calculating summary statistics, and running a two-way repeated-measures ANOVA. Finally, the last sub-problem involves writing text to describe the results of your analysis. See the sub-problems below for directions."
   ]
  },
  {
   "cell_type": "markdown",
   "id": "4c91e25f",
   "metadata": {},
   "source": [
    "### Setup"
   ]
  },
  {
   "cell_type": "code",
   "execution_count": 11,
   "id": "5da361da",
   "metadata": {},
   "outputs": [
    {
     "data": {
      "text/html": [
       "<div><style>\n",
       ".dataframe > thead > tr,\n",
       ".dataframe > tbody > tr {\n",
       "  text-align: right;\n",
       "  white-space: pre-wrap;\n",
       "}\n",
       "</style>\n",
       "<small>shape: (5, 6)</small><table border=\"1\" class=\"dataframe\"><thead><tr><th>subject</th><th>trial</th><th>study_time</th><th>item_type</th><th>trial_type</th><th>response</th></tr><tr><td>str</td><td>i64</td><td>i64</td><td>str</td><td>str</td><td>i64</td></tr></thead><tbody><tr><td>&quot;subj01&quot;</td><td>1</td><td>1</td><td>&quot;word&quot;</td><td>&quot;target&quot;</td><td>1</td></tr><tr><td>&quot;subj01&quot;</td><td>2</td><td>1</td><td>&quot;word&quot;</td><td>&quot;target&quot;</td><td>1</td></tr><tr><td>&quot;subj01&quot;</td><td>3</td><td>1</td><td>&quot;word&quot;</td><td>&quot;target&quot;</td><td>1</td></tr><tr><td>&quot;subj01&quot;</td><td>4</td><td>1</td><td>&quot;word&quot;</td><td>&quot;target&quot;</td><td>1</td></tr><tr><td>&quot;subj01&quot;</td><td>5</td><td>1</td><td>&quot;word&quot;</td><td>&quot;target&quot;</td><td>1</td></tr></tbody></table></div>"
      ],
      "text/plain": [
       "shape: (5, 6)\n",
       "┌─────────┬───────┬────────────┬───────────┬────────────┬──────────┐\n",
       "│ subject ┆ trial ┆ study_time ┆ item_type ┆ trial_type ┆ response │\n",
       "│ ---     ┆ ---   ┆ ---        ┆ ---       ┆ ---        ┆ ---      │\n",
       "│ str     ┆ i64   ┆ i64        ┆ str       ┆ str        ┆ i64      │\n",
       "╞═════════╪═══════╪════════════╪═══════════╪════════════╪══════════╡\n",
       "│ subj01  ┆ 1     ┆ 1          ┆ word      ┆ target     ┆ 1        │\n",
       "│ subj01  ┆ 2     ┆ 1          ┆ word      ┆ target     ┆ 1        │\n",
       "│ subj01  ┆ 3     ┆ 1          ┆ word      ┆ target     ┆ 1        │\n",
       "│ subj01  ┆ 4     ┆ 1          ┆ word      ┆ target     ┆ 1        │\n",
       "│ subj01  ┆ 5     ┆ 1          ┆ word      ┆ target     ┆ 1        │\n",
       "└─────────┴───────┴────────────┴───────────┴────────────┴──────────┘"
      ]
     },
     "execution_count": 11,
     "metadata": {},
     "output_type": "execute_result"
    }
   ],
   "source": [
    "mean_st_tt = None\n",
    "g3 = None\n",
    "stats_st_tt = None\n",
    "anova_st_tt = None\n",
    "data.head()"
   ]
  },
  {
   "cell_type": "markdown",
   "id": "6d7b2ced",
   "metadata": {},
   "source": [
    "### Answer"
   ]
  },
  {
   "cell_type": "markdown",
   "id": "028f5483",
   "metadata": {},
   "source": [
    "#### Calculate the mean for each subject in each condition (1 point)\n",
    "\n",
    "Use the `data` DataFrame to calculate the mean response for each combination of subject, study time, and trial type. Assign your answer to a variable called `mean_st_tt`."
   ]
  },
  {
   "cell_type": "code",
   "execution_count": 12,
   "id": "967a3d68",
   "metadata": {},
   "outputs": [],
   "source": [
    "# your code here\n",
    "\n",
    "# this should print your variables\n",
    "if mean_st_tt is not None:\n",
    "    display(mean_st_tt.sort(\"subject\", \"study_time\", \"trial_type\"))"
   ]
  },
  {
   "cell_type": "markdown",
   "id": "17c39cc2",
   "metadata": {},
   "source": [
    "#### Visualize means in each condition (2 points)\n",
    "\n",
    "Use the `mean_st_tt` DataFrame to make a line plot with error bands showing how the mean response (displayed on the y-axis) varies with study time (displayed on the x-axis) and trial type (displayed with different hues) (1 point). Assign the output from Seaborn to a variable called `g3`.\n",
    "\n",
    "Write a caption in a Markdown cell under the plot (1 point)."
   ]
  },
  {
   "cell_type": "code",
   "execution_count": 13,
   "id": "dee73104",
   "metadata": {},
   "outputs": [],
   "source": [
    "# your code here\n",
    "\n",
    "# this should print your variables\n",
    "if g3 is not None:\n",
    "    print(g3)"
   ]
  },
  {
   "cell_type": "markdown",
   "id": "80e9cd5b",
   "metadata": {},
   "source": [
    "> Write a caption for your figure. Explain what variables are shown and what the error bands represent.\n",
    "\n",
    "[answer here]"
   ]
  },
  {
   "cell_type": "markdown",
   "id": "ed0d3aae",
   "metadata": {},
   "source": [
    "#### Calculate summary statistics (1 point)\n",
    "\n",
    "Use the `mean_st_tt` DataFrame to calculate the mean and SEM for the responses for each combination of study time and trial type. In the DataFrame with the statistics, there should be two columns named `mean` and `sem`. Assign the output to a variable called `stats_st_tt`."
   ]
  },
  {
   "cell_type": "code",
   "execution_count": 14,
   "id": "ab4ccfc3",
   "metadata": {},
   "outputs": [],
   "source": [
    "# your code here\n",
    "\n",
    "# this should print your variables\n",
    "if stats_st_tt is not None:\n",
    "    display(stats_st_tt.sort(\"study_time\", \"trial_type\"))"
   ]
  },
  {
   "cell_type": "markdown",
   "id": "8b6ad847",
   "metadata": {},
   "source": [
    "#### Test for a significant difference (1 point)\n",
    "\n",
    "Use the data in the `mean_st_tt` DataFrame to run a two-way repeated-measures ANOVA to test whether there is a significant difference in response depending on study time, trial type, and/or an interaction between study time and trial type. Assign the result to a variable called `anova_st_tt`."
   ]
  },
  {
   "cell_type": "code",
   "execution_count": 15,
   "id": "81be79cb",
   "metadata": {},
   "outputs": [],
   "source": [
    "# your code here\n",
    "\n",
    "# this should print out your variables\n",
    "if anova_st_tt is not None:\n",
    "    display(anova_st_tt)"
   ]
  },
  {
   "cell_type": "markdown",
   "id": "0186513f",
   "metadata": {},
   "source": [
    "#### Report the results (3 points)\n",
    "\n",
    "Write text describing the results. Report the mean and SEM for each study time/trial type combination (0.5 points), the results of the ANOVA (1 point), and your conclusion about whether there is a main effect of study time, a main effect of trial type, and an interaction effect between study time and trial type (0.5 points for each effect). Report Greenhouse-Geisser corrected p-values. See the [Reporting](https://mortonne.github.io/datascipsych/assignments/assignment12/reporting.html) lecture for example text."
   ]
  },
  {
   "cell_type": "markdown",
   "id": "252bccdc",
   "metadata": {},
   "source": [
    "> Please describe your results below.\n",
    "\n",
    "[answer here]"
   ]
  },
  {
   "cell_type": "markdown",
   "id": "6160c9e7",
   "metadata": {},
   "source": [
    "### Result"
   ]
  },
  {
   "cell_type": "code",
   "execution_count": 16,
   "id": "f7422321",
   "metadata": {},
   "outputs": [],
   "source": [
    "vars = [mean_st_tt, g3, stats_st_tt, anova_st_tt]\n",
    "if all([v is not None for v in vars]):\n",
    "    # this should print your variables\n",
    "    mean_st_tt = mean_st_tt.sort(\"subject\", \"study_time\", \"trial_type\")\n",
    "    display(mean_st_tt)\n",
    "    print(g3)\n",
    "    stats_st_tt = stats_st_tt.sort(\"study_time\", \"trial_type\")\n",
    "    display(stats_st_tt)\n",
    "    display(anova_st_tt)\n",
    "    \n",
    "    # this should not throw any errors\n",
    "    assert isinstance(g3, sns.FacetGrid)\n",
    "    assert stats_st_tt[\"mean\"].round(3).equals(pl.Series([0.445, 0.562, 0.357, 0.618, 0.320, 0.652]))\n",
    "    assert stats_st_tt[\"sem\"].round(3).equals(pl.Series([0.023, 0.022, 0.020, 0.022, 0.020, 0.022]))\n",
    "    assert round(anova_st_tt.loc[0, \"F\"], 3) == 0.488\n",
    "    assert anova_st_tt.loc[0, \"ddof1\"] == 2\n",
    "    assert anova_st_tt.loc[0, \"ddof2\"] == 58\n",
    "    assert round(anova_st_tt.loc[1, \"F\"], 3) == 128.914\n",
    "    assert anova_st_tt.loc[1, \"ddof1\"] == 1\n",
    "    assert anova_st_tt.loc[1, \"ddof2\"] == 29\n",
    "    assert round(anova_st_tt.loc[2, \"F\"], 3) == 15.574\n",
    "    assert anova_st_tt.loc[2, \"ddof1\"] == 2\n",
    "    assert anova_st_tt.loc[2, \"ddof2\"] == 58"
   ]
  }
 ],
 "metadata": {
  "kernelspec": {
   "display_name": "datascipsych",
   "language": "python",
   "name": "datascipsych"
  },
  "language_info": {
   "codemirror_mode": {
    "name": "ipython",
    "version": 3
   },
   "file_extension": ".py",
   "mimetype": "text/x-python",
   "name": "python",
   "nbconvert_exporter": "python",
   "pygments_lexer": "ipython3",
   "version": "3.12.8"
  }
 },
 "nbformat": 4,
 "nbformat_minor": 5
}
