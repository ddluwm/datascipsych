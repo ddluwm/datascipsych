{
 "cells": [
  {
   "cell_type": "markdown",
   "metadata": {},
   "source": [
    "# Project Iteration\n",
    "\n",
    "Real code projects change over time as developers add features, refactor code to improve organization, and write tests to make sure their code is working as intended. These iterative changes can make the difference between projects delivering reliable results or being abandoned. We will discuss some important ways that projects can be developed over time to improve usability, flexibility, and extensability."
   ]
  },
  {
   "cell_type": "markdown",
   "metadata": {},
   "source": [
    "## Python scripts\n",
    "\n",
    "Python scripts are useful for running programs that do not need to be *interactive*; that is, once they are started, they do not require the user to do anything. They can be very powerful for completing repetitive tasks that are not well-suited to Jupyter notebooks."
   ]
  },
  {
   "cell_type": "markdown",
   "metadata": {},
   "source": [
    "We have focused on Jupyter notebooks, which are very flexible and well-suited for data analysis and visualization. However, they are relatively complicated to run. First, you have to open an IDE like Visual Studio Code or a web browser. Then you have to set up a kernel to run the notebook. Finally, you can then run commands to execute the code you want to run, either by running all cells or running individual cells manually."
   ]
  },
  {
   "cell_type": "markdown",
   "metadata": {},
   "source": [
    "Python scripts, in contrast, can be executed by running one command in a terminal. The script *interface* can be written to be flexible, allowing the user to easily change options that affect how the program runs."
   ]
  },
  {
   "cell_type": "markdown",
   "metadata": {},
   "source": [
    "### Script types\n",
    "\n",
    "There are two basic kinds of scripts: script files and installed scripts. "
   ]
  },
  {
   "cell_type": "markdown",
   "metadata": {},
   "source": [
    "Script files are individual `.py` files that can be run using the `python` function. To use them, you must either be in the same directory where they are or know the full path to them."
   ]
  },
  {
   "cell_type": "markdown",
   "metadata": {},
   "source": [
    "Installed scripts work like any other command installed on your computer, like `python` or `pip`. You can run them just by typing the name of the script, so you don't have to specify the full path to their location. They can be executed anytime regardless of what your current directory is."
   ]
  },
  {
   "cell_type": "markdown",
   "metadata": {},
   "source": [
    "## Script files\n",
    "\n",
    "Script files are simple to write; you just start by creating a file with a `.py` extension."
   ]
  },
  {
   "cell_type": "markdown",
   "metadata": {},
   "source": [
    "### A very simple script\n",
    "\n",
    "Let's try making a simple script. We'll start with a script that just prints \"Hello world.\""
   ]
  },
  {
   "cell_type": "markdown",
   "metadata": {},
   "source": [
    "Create a new file in the main directory of this project called `hello.py`, with the following contents:\n",
    "\n",
    "```python\n",
    "print(\"Hello world.\")\n",
    "```"
   ]
  },
  {
   "cell_type": "markdown",
   "metadata": {},
   "source": [
    "This isn't much of a script, but it technically qualifies. Run it by opening a terminal and typing `python hello.py`."
   ]
  },
  {
   "cell_type": "markdown",
   "metadata": {},
   "source": [
    "### Using arguments\n",
    "\n",
    "Most scripts take at least one *argument*. Arguments are used to specify something about how the script will run. Arguments come after the name of the script. Arguments are separated by spaces:\n",
    "\n",
    "```\n",
    "python myscript.py argument1 argument2 argument3 ...\n",
    "```"
   ]
  },
  {
   "cell_type": "markdown",
   "metadata": {},
   "source": [
    "In the code for the script, we can fetch any arguments that the user supplied using the `sys` module. The `sys.argv` variable holds whatever arguments have been passed into the current script."
   ]
  },
  {
   "cell_type": "markdown",
   "metadata": {},
   "source": [
    "Let's edit `hello.py` to take one argument, which we will call `user`.\n",
    "\n",
    "```python\n",
    "import sys\n",
    "user = sys.argv[1]  # sys.argv[0] is the name of the script; arguments come after\n",
    "print(f\"Hello {user}.\")\n",
    "```"
   ]
  },
  {
   "cell_type": "markdown",
   "metadata": {},
   "source": [
    "Now we can call our script with an argument. For example, we can greet Dave using `python hello.py Dave`."
   ]
  },
  {
   "cell_type": "markdown",
   "metadata": {},
   "source": [
    "### Exercise: script file\n",
    "\n",
    "Write a new script called `describe.py` that loads a CSV file using Polars and runs `describe` to display an overview. \n",
    "\n",
    "Your script should take one argument that gives the path to a CSV file. For example, from the main project directory, the path to the Osth2019 dataset is `src/datascipsych/data/Osth2019.csv`. Your script should read the CSV using Polars, get a description of the dataset using the `describe` function, and print it.\n",
    "\n",
    "Use your script to print a description of the Osth2019 dataset."
   ]
  },
  {
   "cell_type": "markdown",
   "metadata": {},
   "source": [
    "## Installed script commands\n",
    "\n",
    "Installed scripts are commands that have been installed into your virtual environment, so that you can access them anywhere. They are a little more complicated to set up, however."
   ]
  },
  {
   "cell_type": "markdown",
   "metadata": {},
   "source": [
    "First, we need a function in one of the modules in our package that we want to turn into a script. We can use the `hello` function in the `cli` module (\"cli\" stands for command-line interface). The function looks like this:\n",
    "\n",
    "```python\n",
    "def hello():\n",
    "    \"\"\"Print a greeting.\"\"\"\n",
    "    if len(sys.argv) > 1:\n",
    "        user = sys.argv[1]\n",
    "    else:\n",
    "        user = \"world\"\n",
    "    print(f\"Hello {user}.\")\n",
    "```"
   ]
  },
  {
   "cell_type": "markdown",
   "metadata": {},
   "source": [
    "We now have an optional `user` argument. If it is not specified (which we can tell if `sys.argv` has less than two items), we will use the default setting, `\"world\"`."
   ]
  },
  {
   "cell_type": "markdown",
   "metadata": {},
   "source": [
    "To make the `hello` function available as a command, we must have settings in the `pyproject.toml` file to indicate the name we want for the new command and where the function can be found:\n",
    "\n",
    "```\n",
    "[project.gui-scripts]\n",
    "hello = \"datascipsych:cli.hello\"\n",
    "```"
   ]
  },
  {
   "cell_type": "markdown",
   "metadata": {},
   "source": [
    "To specify where the function is, start with the package and a colon (`datascipsych:`), then the module and a dot (`cli.`), and finally the name of the function (`hello`). That gives us `\"datascipsych:cli.hello\"`. The text on the left side of the equal sign indicates what the new command should be named (`hello`)."
   ]
  },
  {
   "cell_type": "markdown",
   "metadata": {},
   "source": [
    "Run `pip install -e .` to install the datascipsych package, including our `hello` command. When installing the package, `pip` will find our `hello` function and make it into a command that we can call from the terminal."
   ]
  },
  {
   "cell_type": "markdown",
   "metadata": {},
   "source": [
    "Open a terminal and try running `hello` and `hello Dave`. Note that, unlike when we used a script file, now we are using an installed command. That is why we don't have to write `python` first or give a full filename this time; instead we can just type `hello`."
   ]
  },
  {
   "cell_type": "markdown",
   "metadata": {},
   "source": [
    "### Using Click\n",
    "\n",
    "Packages have been developed to make it easier to create new commandline tools using Python. Click allows you to quickly add more advanced features like optional inputs, just by adding a few lines of code before a function."
   ]
  },
  {
   "cell_type": "markdown",
   "metadata": {},
   "source": [
    "In the `cli.py` module, we have another function called `hello_click`:\n",
    "\n",
    "```python\n",
    "@click.command()\n",
    "@click.option(\"--user\", default=\"world\", help=\"User to greet.\")\n",
    "def hello_click(user):\n",
    "    print(f\"Hello {user}.\")\n",
    "```"
   ]
  },
  {
   "cell_type": "markdown",
   "metadata": {},
   "source": [
    "The `@click` statements are an example of what is called a *function decorator*. Function decorators are a newer feature of Python that allow functions to be modified. In this case, the Click package uses decorators to turn an ordinary function into a command that can get inputs from the terminal and feed them into the function."
   ]
  },
  {
   "cell_type": "markdown",
   "metadata": {},
   "source": [
    "In `pyproject.toml`, this line under `[project.gui-scripts]` sets up a new command called `hello-click`.\n",
    "\n",
    "```\n",
    "hello-click = \"datascipsych:cli.hello_click\"\n",
    "```"
   ]
  },
  {
   "cell_type": "markdown",
   "metadata": {},
   "source": [
    "Run `pip install -e .` to install the new command."
   ]
  },
  {
   "cell_type": "markdown",
   "metadata": {},
   "source": [
    "In the terminal, run `hello-click --help`. You should see a message showing the options for running the command. Click automatically puts this message together for us, based on how we have set up the function. You can customize the user with the `--user` flag. For example, try `hello-click --user Dave`."
   ]
  },
  {
   "cell_type": "markdown",
   "metadata": {},
   "source": [
    "Click has a lot of features to make it easier to define inputs to Python scripts. See the [website](https://click.palletsprojects.com/en/stable/) for details."
   ]
  },
  {
   "cell_type": "markdown",
   "metadata": {},
   "source": [
    "## Using unit tests to ensure code correctness\n",
    "\n",
    "There are many ways to test code to ensure it is working as expected. Testing code is easier when it is well-organized into functions."
   ]
  },
  {
   "cell_type": "markdown",
   "metadata": {},
   "source": [
    "### Using assert statements\n",
    "\n",
    "The `assert` statement makes it easy to run a check of some assumption or output from a function."
   ]
  },
  {
   "cell_type": "markdown",
   "metadata": {},
   "source": [
    "## Sharing Python packages\n",
    "\n",
    "Python packages can be shared with others through PyPI and GitHub. Both methods make it possible for others to install your package using Pip."
   ]
  },
  {
   "cell_type": "markdown",
   "metadata": {},
   "source": [
    "### Sharing through the Python Package Index\n",
    "\n",
    "Python packages can be published to the official Python Package Index (PyPI) to make them easily accessible to users. Packages hosted there can be installed by just running `pip install [packagename]`, where `[packagename]` is the name of your package. For example, my package for analysis of free-recall data, Psifr, can be installed by running `pip install psifr`. If you have followed the directions in this course for setting up an installable package with a `pyproject.toml` file, you have already done most of the work necessary to host a package on PyPI. See the [Python Packaging User Guide](https://packaging.python.org/en/latest/tutorials/packaging-projects/) for details."
   ]
  },
  {
   "cell_type": "markdown",
   "metadata": {},
   "source": [
    "### Sharing through GitHub\n",
    "\n",
    "Users can also install packages from GitHub. For example, to install Psifr from the latest code on GitHub:\n",
    "\n",
    "```bash\n",
    "pip install psifr@git+https://github.com/mortonne/psifr\n",
    "```"
   ]
  },
  {
   "cell_type": "markdown",
   "metadata": {},
   "source": [
    "To install a package from PyPI, we only have to indicate the name of the package (for example, `psifr`). When installing from GitHub, we need to specify more information. First, we indicate the name the package should be installed under using `psifr@`. Next, `git+` indicates that we want to access a Git repository. Finally, we have the URL for the GitHub webpage for the project we want to install: `https://github.com/mortonne/psifr`. See the Pip documentation page on [VCS support](https://pip.pypa.io/en/stable/topics/vcs-support/) for details."
   ]
  },
  {
   "cell_type": "markdown",
   "metadata": {},
   "source": [
    "The full specifier, `psifr@git+https://github.com/mortonne/psifr`, can also be used in a dependency list in a `pyproject.toml` file."
   ]
  },
  {
   "cell_type": "markdown",
   "metadata": {},
   "source": [
    "### Using a third-party package\n",
    "\n",
    "Using Pip to install Psifr from PyPI or GitHub makes it so we can now run code from modules in the Psifr package. For example, this code will load some sample data and convert it to a Polars DataFrame. After installing Psifr, uncomment the code to run it. In Visual Studio Code, you can uncomment a block of code by highlighting the code and running `Edit > Toggle Line Comment`."
   ]
  },
  {
   "cell_type": "code",
   "execution_count": 1,
   "metadata": {},
   "outputs": [],
   "source": [
    "# import polars as pl\n",
    "# from psifr import fr\n",
    "# df = fr.sample_data(\"Morton2013\")\n",
    "# data = pl.DataFrame(fr.merge_free_recall(df))\n",
    "# data.head()"
   ]
  },
  {
   "cell_type": "markdown",
   "metadata": {},
   "source": [
    "## Sharing Jupyter notebooks"
   ]
  },
  {
   "cell_type": "markdown",
   "metadata": {},
   "source": [
    "### Static notebooks on GitHub\n",
    "\n",
    "GitHub makes it easy to show people your latest results. Jupyter notebooks are automatically rendered, allowing visitors to see your code and the results that you got the last time you ran it. However, notebooks are only updated when you push changes to GitHub, and users will not be able to edit and run code themselves."
   ]
  },
  {
   "cell_type": "markdown",
   "metadata": {},
   "source": [
    "For example, the sample project has a [notebook on GitHub](https://github.com/mortonne/datascipsych-project/blob/main/jupyter/replication.ipynb) that you can view. The output of each cell shows what the results were the last time the notebook was run and changes were pushed to GitHub."
   ]
  },
  {
   "cell_type": "markdown",
   "metadata": {},
   "source": [
    "### Executable notebooks on Binder\n",
    "\n",
    "The [Binder](https://mybinder.org/) service lets you create an interactive notebook that you can share with anyone, to let them run your code interactively. This can be a convenient way to share results with a collaborator without them having to clone your project, create a Python virtual environment, install your project, open your notebook, and specify the kernel."
   ]
  },
  {
   "cell_type": "markdown",
   "metadata": {},
   "source": [
    "To use Binder, you provide the URL for a GitHub repository and the path to a Jupyter notebook relative to the main directory of your repository. After you fill in a form with information about the repository and the location of the notebook you want to run, Binder will create an environment to run the notebook and open an interface where you can make edits and run code."
   ]
  },
  {
   "cell_type": "markdown",
   "metadata": {},
   "source": [
    "Binder currently does not support installing dependencies from a `pyproject.toml` file, unfortunately. You can either create a file in your main project directory called `requirements.txt` with one dependency per line, or you can instruct users to add code at the top of the notebook to install any necessary dependencies."
   ]
  },
  {
   "cell_type": "markdown",
   "metadata": {},
   "source": [
    "For example, to install Polars, users can add this line at the top of the notebook:\n",
    "\n",
    "```\n",
    "!pip install polars\n",
    "```"
   ]
  },
  {
   "cell_type": "markdown",
   "metadata": {},
   "source": [
    "The `!` indicates to Jupyter that you want to run something outside the usual Jupyter environment. It lets you run `pip` directly from inside a notebook to install Polars into the environment that is running the notebook."
   ]
  },
  {
   "cell_type": "markdown",
   "metadata": {},
   "source": [
    "To use a module from a code project on GitHub (for example, if the notebook is designed to use a module defined in the same project), you can use the same method as in the Sharing through GitHub section. For example:\n",
    "\n",
    "```\n",
    "!pip install project@git+https://github.com/mortonne/datascipsych-project\n",
    "```"
   ]
  },
  {
   "cell_type": "markdown",
   "metadata": {},
   "source": [
    "### Google Colab\n",
    "\n",
    "The [Google Colab](https://colab.research.google.com/) website is another option for hosting interactive notebooks. The default kernel has many common data science packages already installed, so setup is often easier."
   ]
  },
  {
   "cell_type": "markdown",
   "metadata": {},
   "source": [
    "## Soliciting bug reports and improvements"
   ]
  }
 ],
 "metadata": {
  "kernelspec": {
   "display_name": "datascipsych",
   "language": "python",
   "name": "datascipsych"
  },
  "language_info": {
   "codemirror_mode": {
    "name": "ipython",
    "version": 3
   },
   "file_extension": ".py",
   "mimetype": "text/x-python",
   "name": "python",
   "nbconvert_exporter": "python",
   "pygments_lexer": "ipython3",
   "version": "3.12.10"
  }
 },
 "nbformat": 4,
 "nbformat_minor": 2
}
