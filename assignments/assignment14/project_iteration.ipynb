{
 "cells": [
  {
   "cell_type": "markdown",
   "metadata": {},
   "source": [
    "# Project Iteration\n",
    "\n",
    "Real code projects change over time as developers add features, refactor code to improve organization, and write tests to make sure their code is working as intended. These iterative changes can make the difference between projects delivering reliable results or being abandoned."
   ]
  },
  {
   "cell_type": "markdown",
   "metadata": {},
   "source": [
    "## Python scripts"
   ]
  },
  {
   "cell_type": "markdown",
   "metadata": {},
   "source": [
    "## Using unit tests to ensure code correctness"
   ]
  },
  {
   "cell_type": "markdown",
   "metadata": {},
   "source": [
    "## Sharing Python packages\n",
    "\n",
    "Python packages can be shared with others through PyPI and GitHub. Both methods make it possible for others to install your package using Pip."
   ]
  },
  {
   "cell_type": "markdown",
   "metadata": {},
   "source": [
    "### Sharing through the Python Package Index\n",
    "\n",
    "Python packages can be published to the official Python Package Index (PyPI) to make them easily accessible to users. Packages hosted there can be installed by just running `pip install [packagename]`, where `[packagename]` is the name of your package. For example, my package for analysis of free-recall data, Psifr, can be installed by running `pip install psifr`. If you have followed the directions in this course for setting up an installable package with a `pyproject.toml` file, you have already done most of the work necessary to host a package on PyPI. See the [Python Packaging User Guide](https://packaging.python.org/en/latest/tutorials/packaging-projects/) for details."
   ]
  },
  {
   "cell_type": "markdown",
   "metadata": {},
   "source": [
    "### Sharing through GitHub\n",
    "\n",
    "Users can also install packages from GitHub. For example, to install Psifr from the latest code on GitHub:\n",
    "\n",
    "```bash\n",
    "pip install git+https://github.com/mortonne/psifr\n",
    "```"
   ]
  },
  {
   "cell_type": "markdown",
   "metadata": {},
   "source": [
    "Running the command above makes it so we can now run code from modules in the Psifr package. For example, this code will load some sample data and convert it to a Polars DataFrame. After installing Psifr, uncomment the code to run it. In Visual Studio Code, you can uncomment a block of code by highlighting the code and running `Edit > Toggle Line Comment`."
   ]
  },
  {
   "cell_type": "code",
   "execution_count": 1,
   "metadata": {},
   "outputs": [],
   "source": [
    "# import polars as pl\n",
    "# from psifr import fr\n",
    "# df = fr.sample_data(\"Morton2013\")\n",
    "# data = pl.DataFrame(fr.merge_free_recall(df))\n",
    "# data.head()"
   ]
  },
  {
   "cell_type": "markdown",
   "metadata": {},
   "source": [
    "See the Pip documentation page on [VCS support](https://pip.pypa.io/en/stable/topics/vcs-support/) for details."
   ]
  },
  {
   "cell_type": "markdown",
   "metadata": {},
   "source": [
    "## Sharing Jupyter notebooks"
   ]
  },
  {
   "cell_type": "markdown",
   "metadata": {},
   "source": [
    "## Soliciting bug reports and improvements"
   ]
  }
 ],
 "metadata": {
  "kernelspec": {
   "display_name": "datascipsych",
   "language": "python",
   "name": "datascipsych"
  },
  "language_info": {
   "codemirror_mode": {
    "name": "ipython",
    "version": 3
   },
   "file_extension": ".py",
   "mimetype": "text/x-python",
   "name": "python",
   "nbconvert_exporter": "python",
   "pygments_lexer": "ipython3",
   "version": "3.12.10"
  }
 },
 "nbformat": 4,
 "nbformat_minor": 2
}
