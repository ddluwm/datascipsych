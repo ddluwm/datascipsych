{
 "cells": [
  {
   "cell_type": "markdown",
   "id": "23cabc7a",
   "metadata": {},
   "source": [
    "# Assignment 13 draft (NOT FINALIZED)\n",
    "\n",
    "Please fill in blanks in the *Modified* and *Answer* sections of this notebook. Most problems just involve taking existing code (in the *Original* section) and writing a modified version of the code (in the *Modified* section). DO NOT MODIFY SETUP OR ORIGINAL CELLS. See the [README](https://github.com/mortonne/datascipsych) for instructions on setting up a Python environment to run this notebook.\n",
    "\n",
    "Write your answers for each problem. Then restart the kernel, run all cells, and then save the notebook. Upload your notebook to Canvas.\n",
    "\n",
    "If you get stuck, read through the other notebooks in this directory, ask us for help in class, or ask other students for help in class or on the weekly discussion board."
   ]
  },
  {
   "cell_type": "markdown",
   "id": "ddb2c661",
   "metadata": {},
   "source": [
    "## Problem: code style (2 points)\n",
    "\n",
    "Change the following code to meet the guidelines described in the [Coding Best Practices](https://mortonne.github.io/datascipsych/assignments/assignment13/coding_best_practices.html#use-consistent-code-style) lecture. Read the code in the Original section and write your modified code in the Modified section.\n",
    "\n",
    "### Standardize import statements (1 point)\n",
    "\n",
    "Move the import statements to the top of the code cell (0.5 points) and use standard names for each of the packages (0.5 points).\n",
    "\n",
    "### Apply Black formatting (1 point)\n",
    "\n",
    "Apply Black-style formatting to the code."
   ]
  },
  {
   "cell_type": "markdown",
   "id": "024d2cb2",
   "metadata": {},
   "source": [
    "### Original"
   ]
  },
  {
   "cell_type": "code",
   "execution_count": 1,
   "id": "3586a51d",
   "metadata": {},
   "outputs": [],
   "source": [
    "from datascipsych import datasets\n",
    "file = datasets.get_dataset_file('Osth2019')\n",
    "\n",
    "import polars as pl\n",
    "data = pl.read_csv( file )\n",
    "targets = data.filter(pl.col(\"type\") == \"intact\").group_by(\"subj\").agg(pl.col(\"response\").mean())\n",
    "import numpy as N\n",
    "x = N.arange(10)\n",
    "y = N.sum(x)"
   ]
  },
  {
   "cell_type": "markdown",
   "id": "cd7adc7f",
   "metadata": {},
   "source": [
    "### Modified"
   ]
  },
  {
   "cell_type": "code",
   "execution_count": 2,
   "id": "7cab4c51",
   "metadata": {},
   "outputs": [],
   "source": [
    "# your modified version of the code here"
   ]
  },
  {
   "cell_type": "markdown",
   "id": "a1d43b15",
   "metadata": {},
   "source": [
    "## Problem: variable names (2 points)\n",
    "\n",
    "The code below uses very generic variable names that are not very informative. \n",
    "\n",
    "Rename the variables to describe what they refer to. There isn't a specific right answer, but try to choose names that are descriptive but not too long.\n",
    "\n",
    "Make sure you rename each variable everywhere it appears in the code cell, so that the code still works."
   ]
  },
  {
   "cell_type": "markdown",
   "id": "78e60704",
   "metadata": {},
   "source": [
    "### Original"
   ]
  },
  {
   "cell_type": "code",
   "execution_count": 3,
   "id": "f8eeeca0",
   "metadata": {},
   "outputs": [],
   "source": [
    "import polars as pl\n",
    "from datascipsych import datasets\n",
    "\n",
    "a = datasets.get_dataset_file(\"Osth2019\")\n",
    "b = datasets.clean_osth(pl.read_csv(a))\n",
    "c = b.filter(pl.col(\"phase\") == \"test\")\n",
    "d = c.drop_nulls().group_by(\"response\").agg(pl.col(\"RT\").mean())"
   ]
  },
  {
   "cell_type": "markdown",
   "id": "e327ed46",
   "metadata": {},
   "source": [
    "### Modified"
   ]
  },
  {
   "cell_type": "code",
   "execution_count": 4,
   "id": "29a01bb1",
   "metadata": {},
   "outputs": [],
   "source": [
    "# your modified version of the code here"
   ]
  },
  {
   "cell_type": "markdown",
   "id": "5e766e75",
   "metadata": {},
   "source": [
    "## Problem: code comments (2 points)\n",
    "\n",
    "The code below has good variable names, but could still use a little clarification. The first block sets up some arrays with information about six trials, including the trial number, trial type, and response for each trial. The second block takes these arrays and calculates the hit rate and false alarm rate for those trials.\n",
    "\n",
    "Add a comment above each of the two code blocks to describe what they are doing. Good comments are usually short, declarative sentences, like `# Read the raw data` or `# Calculate mean recall for each condition`.\n",
    "\n",
    "There is no specific correct answer here. Try to come up with two relatively short comments (one line each, less than 80 characters) that help make the code easier to understand."
   ]
  },
  {
   "cell_type": "markdown",
   "id": "3826bf7b",
   "metadata": {},
   "source": [
    "### Original"
   ]
  },
  {
   "cell_type": "code",
   "execution_count": 5,
   "id": "9ff42d31",
   "metadata": {},
   "outputs": [],
   "source": [
    "import numpy as np\n",
    "\n",
    "trial_number = np.array([1, 2, 3, 4, 5, 6])\n",
    "trial_type = np.array([\"target\", \"lure\", \"lure\", \"lure\", \"target\", \"target\"])\n",
    "old_response = np.array([1, 0, 1, 0, 0, 1])\n",
    "\n",
    "hit_rate = np.mean(old_response[trial_type == \"target\"])\n",
    "false_alarm_rate = np.mean(old_response[trial_type == \"lure\"])"
   ]
  },
  {
   "cell_type": "markdown",
   "id": "76796545",
   "metadata": {},
   "source": [
    "### Modified"
   ]
  },
  {
   "cell_type": "code",
   "execution_count": 6,
   "id": "52eb460f",
   "metadata": {},
   "outputs": [],
   "source": [
    "# your modified version of the code here"
   ]
  },
  {
   "cell_type": "markdown",
   "id": "bf1b51ea",
   "metadata": {},
   "source": [
    "## Problem: using loops (2 points)\n",
    "\n",
    "The code below reads in CSV files for each subject, calculates the total number of correct trials for that subject, and then adds the correct trials across subjects.\n",
    "\n",
    "Change the code to calculate the same sum using a `for` loop instead."
   ]
  },
  {
   "cell_type": "markdown",
   "id": "4b5fe5c5",
   "metadata": {},
   "source": [
    "### Original"
   ]
  },
  {
   "cell_type": "code",
   "execution_count": 7,
   "id": "c7857001",
   "metadata": {},
   "outputs": [
    {
     "name": "stdout",
     "output_type": "stream",
     "text": [
      "48\n"
     ]
    }
   ],
   "source": [
    "import polars as pl\n",
    "\n",
    "n1 = pl.read_csv(\"data/sub-01_beh.csv\")[\"correct\"].sum()\n",
    "n2 = pl.read_csv(\"data/sub-02_beh.csv\")[\"correct\"].sum()\n",
    "n3 = pl.read_csv(\"data/sub-03_beh.csv\")[\"correct\"].sum()\n",
    "n4 = pl.read_csv(\"data/sub-04_beh.csv\")[\"correct\"].sum()\n",
    "n5 = pl.read_csv(\"data/sub-05_beh.csv\")[\"correct\"].sum()\n",
    "n6 = pl.read_csv(\"data/sub-06_beh.csv\")[\"correct\"].sum()\n",
    "n7 = pl.read_csv(\"data/sub-07_beh.csv\")[\"correct\"].sum()\n",
    "n8 = pl.read_csv(\"data/sub-08_beh.csv\")[\"correct\"].sum()\n",
    "total = n1 + n2 + n3 + n4 + n5 + n6 + n7 + n8\n",
    "print(total)"
   ]
  },
  {
   "cell_type": "markdown",
   "id": "a86ee237",
   "metadata": {},
   "source": [
    "### Modified"
   ]
  },
  {
   "cell_type": "code",
   "execution_count": 8,
   "id": "f6ee2a86",
   "metadata": {},
   "outputs": [],
   "source": [
    "# your modified version of the code here"
   ]
  },
  {
   "cell_type": "markdown",
   "id": "4e22e3e9",
   "metadata": {},
   "source": [
    "## Problem: using functions (2 points)\n",
    "\n",
    "Polars expressions can be stored as variables. For example, you could create a variable defining a filter expression, and then use that variable with the filter function to get the rows of a DataFrame that match that expression:\n",
    "\n",
    "```python\n",
    "test_expr = pl.col(\"phase\") == \"test\"\n",
    "test_trials = df.filter(test_expr)\n",
    "```\n",
    "\n",
    "The code in the Original section uses a Polars expression to calculate mean and SEM for conditions in two DataFrames. Write two functions called `mean_expr` and `sem_expr` that take a column name and return a Polars expression to calculate the given statistic. Rewrite the original code to use your functions."
   ]
  },
  {
   "cell_type": "markdown",
   "id": "4e4a8284",
   "metadata": {},
   "source": [
    "### Setup"
   ]
  },
  {
   "cell_type": "code",
   "execution_count": 9,
   "id": "b2c91388",
   "metadata": {},
   "outputs": [],
   "source": [
    "import polars as pl\n",
    "from datascipsych import datasets\n",
    "\n",
    "dataset_file = datasets.get_dataset_file(\"Osth2019\")\n",
    "df_osth = datasets.clean_osth(pl.read_csv(dataset_file))\n",
    "mean_response_type = (\n",
    "    df_osth.filter(pl.col(\"phase\") == \"test\")\n",
    "    .group_by(\"subj\", \"probe_type\")\n",
    "    .agg(pl.col(\"response\").mean())\n",
    "    .sort(\"subj\", \"probe_type\")\n",
    ")\n",
    "mean_response_lag = (\n",
    "    df_osth.filter((pl.col(\"phase\") == \"test\") & (pl.col(\"probe_type\") == \"lure\"))\n",
    "    .group_by(\"subj\", \"lag\")\n",
    "    .agg(pl.col(\"response\").mean())\n",
    "    .sort(\"subj\", \"lag\")\n",
    ")"
   ]
  },
  {
   "cell_type": "markdown",
   "id": "0b494d15",
   "metadata": {},
   "source": [
    "### Original"
   ]
  },
  {
   "cell_type": "code",
   "execution_count": 10,
   "id": "6d3d55ba",
   "metadata": {},
   "outputs": [],
   "source": [
    "stats_response_type = (\n",
    "    mean_response_type.group_by(\"probe_type\")\n",
    "    .agg(\n",
    "        mean=pl.col(\"response\").mean(),\n",
    "        sem=pl.col(\"response\").std() / pl.col(\"response\").len().sqrt()\n",
    "    )\n",
    ")\n",
    "stats_response_lag = (\n",
    "    mean_response_lag.group_by(\"lag\")\n",
    "    .agg(\n",
    "        mean=pl.col(\"response\").mean(),\n",
    "        sem=pl.col(\"response\").std() / pl.col(\"response\").len().sqrt()\n",
    "    )\n",
    ")"
   ]
  },
  {
   "cell_type": "markdown",
   "id": "ae7d1a1b",
   "metadata": {},
   "source": [
    "### Modified"
   ]
  },
  {
   "cell_type": "code",
   "execution_count": 11,
   "id": "9d1a0657",
   "metadata": {},
   "outputs": [],
   "source": [
    "# your modified version of the code here"
   ]
  },
  {
   "cell_type": "markdown",
   "id": "1a41c67b",
   "metadata": {},
   "source": [
    "## Problem: making a function more flexible (2 points)\n",
    "\n",
    "The `subject_mean_response` function defined in the Original section can be used to calculate the mean response for each combination of subject and probe type. \n",
    "\n",
    "Rewrite the function to be more flexible. In addition to `df`, your modified version should take a `subject` input, which indicates the name of the column with subject labels, and a `condition` input, which indicates the name of the column with conditions that we want to split up. \n",
    "\n",
    "Your new function should work the same as the original function if you set `subject=\"subj\"` and `condition=\"probe_type\"`."
   ]
  },
  {
   "cell_type": "markdown",
   "id": "e49bd4c3",
   "metadata": {},
   "source": [
    "### Setup"
   ]
  },
  {
   "cell_type": "code",
   "execution_count": 12,
   "id": "5f3abb0d",
   "metadata": {},
   "outputs": [],
   "source": [
    "import polars as pl\n",
    "from datascipsych import datasets\n",
    "\n",
    "dataset_file = datasets.get_dataset_file(\"Osth2019\")\n",
    "df_osth = datasets.clean_osth(pl.read_csv(dataset_file))\n",
    "df_test = df_osth.filter(pl.col(\"phase\") == \"test\")\n",
    "df_test_lures = df_osth.filter((pl.col(\"phase\") == \"test\") & (pl.col(\"probe_type\") == \"lure\"))"
   ]
  },
  {
   "cell_type": "markdown",
   "id": "7e3eb466",
   "metadata": {},
   "source": [
    "### Original"
   ]
  },
  {
   "cell_type": "code",
   "execution_count": 13,
   "id": "9fd949b4",
   "metadata": {},
   "outputs": [],
   "source": [
    "def subject_mean_response(df):\n",
    "    means = (\n",
    "        df.group_by(\"subj\", \"probe_type\")\n",
    "        .agg(pl.col(\"response\").mean())\n",
    "        .sort(\"subj\", \"probe_type\")\n",
    "    )\n",
    "    return means\n",
    "\n",
    "\n",
    "mean_probe_type = subject_mean_response(df_test)"
   ]
  },
  {
   "cell_type": "markdown",
   "id": "4045901a",
   "metadata": {},
   "source": [
    "### Modified"
   ]
  },
  {
   "cell_type": "code",
   "execution_count": 14,
   "id": "e4457b50",
   "metadata": {},
   "outputs": [],
   "source": [
    "# your modified version of the code here\n",
    "\n",
    "# uncomment the lines below to test your function\n",
    "# mean_probe_type = subject_mean_response(df_test, \"subj\", \"probe_type\")\n",
    "# mean_lure_lag = subject_mean_response(df_test_lures, \"subj\", \"lag\")"
   ]
  },
  {
   "cell_type": "markdown",
   "id": "79551a9c",
   "metadata": {},
   "source": [
    "## Problem (graduate students): using pathlib (2 points)\n",
    "\n",
    "### Pathlib example\n",
    "\n",
    "The [pathlib module](https://docs.python.org/3/library/pathlib.html#basic-use) provides tools for working with filesystem paths. For example, say you have data files stored in `data/sub-101/beh/sub-101_task.tsv`, `data/sub-102/beh/sub-102_task.tsv`, etc., for a number of subjects. If you have the different directory names stored in variables, you can use pathlib to make the full paths easily. By putting `/` in between the different directory names, you can make the full filepath for a given subject:\n",
    "\n",
    "```python\n",
    "from pathlib import Path\n",
    "import polars as pl\n",
    "data_dir = Path(\"data\")  # make a filepath object; now we can make subdirectories using \"/\"\n",
    "data_type = \"beh\"\n",
    "subject = \"101\"\n",
    "filepath = data_dir / f\"sub-{subject}\" / data_type / f\"sub-{subject}_task.tsv\"\n",
    "data = pl.read_csv(filepath, separator=\"\\t\")\n",
    "```\n",
    "\n",
    "The `/` separates different directories. This works on Windows, Linux, and macOS; the pathlib module will figure out the correct directory separator to use for your system.\n",
    "\n",
    "### Adapting non-pathlib code\n",
    "\n",
    "A common way to construct a path is to create a string by concatenating parts together. The code below uses string concatenation to get the path to the Osth & Fox (2019) dataset. The `\"..\"` path indicates going back one directory, so `\"../../src\"` goes back twice and then into the `src` directory in this project. \n",
    "\n",
    "Rewrite the code to use `Path` instead, starting with `Path(\"..\")` and constructing the full path using the `/` operator."
   ]
  },
  {
   "cell_type": "markdown",
   "id": "d8bdc1ed",
   "metadata": {},
   "source": [
    "### Original"
   ]
  },
  {
   "cell_type": "code",
   "execution_count": 15,
   "id": "8f23e67b",
   "metadata": {},
   "outputs": [
    {
     "data": {
      "text/html": [
       "<div><style>\n",
       ".dataframe > thead > tr,\n",
       ".dataframe > tbody > tr {\n",
       "  text-align: right;\n",
       "  white-space: pre-wrap;\n",
       "}\n",
       "</style>\n",
       "<small>shape: (5, 16)</small><table border=\"1\" class=\"dataframe\"><thead><tr><th>cycle</th><th>trial</th><th>phase</th><th>type</th><th>word1</th><th>word2</th><th>response</th><th>RT</th><th>correct</th><th>lag</th><th>serPos1</th><th>serPos2</th><th>subj</th><th>intactLag</th><th>prevResponse</th><th>prevRT</th></tr><tr><td>i64</td><td>i64</td><td>str</td><td>str</td><td>str</td><td>str</td><td>i64</td><td>f64</td><td>i64</td><td>i64</td><td>i64</td><td>i64</td><td>i64</td><td>i64</td><td>i64</td><td>i64</td></tr></thead><tbody><tr><td>0</td><td>-1</td><td>&quot;study&quot;</td><td>&quot;intact&quot;</td><td>&quot;formal&quot;</td><td>&quot;positive&quot;</td><td>-1</td><td>-1.0</td><td>-1</td><td>-1</td><td>0</td><td>0</td><td>101</td><td>0</td><td>0</td><td>0</td></tr><tr><td>0</td><td>0</td><td>&quot;study&quot;</td><td>&quot;intact&quot;</td><td>&quot;skin&quot;</td><td>&quot;careful&quot;</td><td>-1</td><td>-1.0</td><td>-1</td><td>-1</td><td>1</td><td>1</td><td>101</td><td>0</td><td>0</td><td>0</td></tr><tr><td>0</td><td>1</td><td>&quot;study&quot;</td><td>&quot;intact&quot;</td><td>&quot;upon&quot;</td><td>&quot;miss&quot;</td><td>-1</td><td>-1.0</td><td>-1</td><td>-1</td><td>2</td><td>2</td><td>101</td><td>0</td><td>0</td><td>0</td></tr><tr><td>0</td><td>2</td><td>&quot;study&quot;</td><td>&quot;intact&quot;</td><td>&quot;single&quot;</td><td>&quot;tradition&quot;</td><td>-1</td><td>-1.0</td><td>-1</td><td>-1</td><td>3</td><td>3</td><td>101</td><td>0</td><td>0</td><td>0</td></tr><tr><td>0</td><td>3</td><td>&quot;study&quot;</td><td>&quot;intact&quot;</td><td>&quot;prove&quot;</td><td>&quot;airport&quot;</td><td>-1</td><td>-1.0</td><td>-1</td><td>-1</td><td>4</td><td>4</td><td>101</td><td>0</td><td>0</td><td>0</td></tr></tbody></table></div>"
      ],
      "text/plain": [
       "shape: (5, 16)\n",
       "┌───────┬───────┬───────┬────────┬───┬──────┬───────────┬──────────────┬────────┐\n",
       "│ cycle ┆ trial ┆ phase ┆ type   ┆ … ┆ subj ┆ intactLag ┆ prevResponse ┆ prevRT │\n",
       "│ ---   ┆ ---   ┆ ---   ┆ ---    ┆   ┆ ---  ┆ ---       ┆ ---          ┆ ---    │\n",
       "│ i64   ┆ i64   ┆ str   ┆ str    ┆   ┆ i64  ┆ i64       ┆ i64          ┆ i64    │\n",
       "╞═══════╪═══════╪═══════╪════════╪═══╪══════╪═══════════╪══════════════╪════════╡\n",
       "│ 0     ┆ -1    ┆ study ┆ intact ┆ … ┆ 101  ┆ 0         ┆ 0            ┆ 0      │\n",
       "│ 0     ┆ 0     ┆ study ┆ intact ┆ … ┆ 101  ┆ 0         ┆ 0            ┆ 0      │\n",
       "│ 0     ┆ 1     ┆ study ┆ intact ┆ … ┆ 101  ┆ 0         ┆ 0            ┆ 0      │\n",
       "│ 0     ┆ 2     ┆ study ┆ intact ┆ … ┆ 101  ┆ 0         ┆ 0            ┆ 0      │\n",
       "│ 0     ┆ 3     ┆ study ┆ intact ┆ … ┆ 101  ┆ 0         ┆ 0            ┆ 0      │\n",
       "└───────┴───────┴───────┴────────┴───┴──────┴───────────┴──────────────┴────────┘"
      ]
     },
     "execution_count": 15,
     "metadata": {},
     "output_type": "execute_result"
    }
   ],
   "source": [
    "import os\n",
    "package_name = \"datascipsych\"\n",
    "data_dir = \"data\"\n",
    "filename = \"Osth2019.csv\"\n",
    "data_file = \"../../src/\" + package_name + \"/\" + data_dir + \"/\" + filename\n",
    "pl.read_csv(data_file).head()"
   ]
  },
  {
   "cell_type": "markdown",
   "id": "b8019bab",
   "metadata": {},
   "source": [
    "### Modified"
   ]
  },
  {
   "cell_type": "code",
   "execution_count": 16,
   "id": "34869b2b",
   "metadata": {},
   "outputs": [],
   "source": [
    "# your modified version of the code here"
   ]
  },
  {
   "cell_type": "markdown",
   "id": "d87b6bf0",
   "metadata": {},
   "source": [
    "## Problem (graduate students): using NumPy to speed up calculations (2 points)\n",
    "\n",
    "One of the big advantages of NumPy is that it is much faster than basic Python code. In Jupyter, you can time how long it takes to run code by placing `%%timeit` at the top of a cell that you want to time. Read about timeit in the [iPython documentation](https://ipython.readthedocs.io/en/stable/interactive/magics.html#magic-timeit).\n",
    "\n",
    "The Original section has a `for` loop that calculates a total over 100,000 random numbers. Rewrite that code to use a NumPy function instead and use `%%timeit` to time how long it takes to execute on average. How long did it take to run the Original code? The Modified code? Write your answers in the Answer section."
   ]
  },
  {
   "cell_type": "markdown",
   "id": "1e46943d",
   "metadata": {},
   "source": [
    "### Setup"
   ]
  },
  {
   "cell_type": "code",
   "execution_count": 17,
   "id": "2d03cdfb",
   "metadata": {},
   "outputs": [],
   "source": [
    "rng = np.random.default_rng(1)\n",
    "x = rng.normal(size=100000)"
   ]
  },
  {
   "cell_type": "markdown",
   "id": "7df0f849",
   "metadata": {},
   "source": [
    "### Original"
   ]
  },
  {
   "cell_type": "code",
   "execution_count": 18,
   "id": "b8b30760",
   "metadata": {},
   "outputs": [
    {
     "name": "stdout",
     "output_type": "stream",
     "text": [
      "3.45 ms ± 19.5 μs per loop (mean ± std. dev. of 7 runs, 100 loops each)\n"
     ]
    }
   ],
   "source": [
    "%%timeit\n",
    "total = 0\n",
    "for xi in x:\n",
    "    total += xi"
   ]
  },
  {
   "cell_type": "markdown",
   "id": "2bad0e10",
   "metadata": {},
   "source": [
    "### Modified"
   ]
  },
  {
   "cell_type": "code",
   "execution_count": 19,
   "id": "7a46b0b6",
   "metadata": {},
   "outputs": [],
   "source": [
    "# your code here"
   ]
  },
  {
   "cell_type": "markdown",
   "id": "7581a93e",
   "metadata": {},
   "source": [
    "### Answer\n",
    "\n",
    "> How long did it take to run the Original code, on average?\n",
    "\n",
    "[answer here]\n",
    "\n",
    "> How long did it take to run the NumPy version, on average?\n",
    "\n",
    "[answer here]"
   ]
  },
  {
   "cell_type": "markdown",
   "id": "12d51160",
   "metadata": {},
   "source": [
    "## Problem (graduate students): type hints (2 points)\n",
    "\n",
    "Read about [using type hints](https://mypy.readthedocs.io/en/stable/cheat_sheet_py3.html#functions) to annotate functions with information about the datatype of arguments and return values. Type hints can be used with tools like [mypy](https://mypy-lang.org/) to analyze code and spot potential problems where datatypes don't match up in different parts of code (for example, if the way a function is called does not match up with the datatypes expected by that function). Type hints can also be useful for documenting your code, for example by making it clear what type of data is expected for each argument and return value of your functions.\n",
    "\n",
    "Write a modified version of the function below with type hints for the arguments and return value. The `hit_rate` and `false_alarm_rate` arguments will be `float`, the `n` argument will be `int`, and the `adjust` argument will be `bool`. The return value will be `float`."
   ]
  },
  {
   "cell_type": "markdown",
   "id": "3df4f995",
   "metadata": {},
   "source": [
    "### Original"
   ]
  },
  {
   "cell_type": "code",
   "execution_count": 20,
   "id": "9959f3ec",
   "metadata": {},
   "outputs": [],
   "source": [
    "from scipy import stats\n",
    "\n",
    "def dprime(hit_rate, false_alarm_rate, n=None, adjust=True):\n",
    "    \"\"\"Calculate d-prime with optional adjustment for rates of 0 or 1.\"\"\"\n",
    "    if adjust:\n",
    "        if n is None:\n",
    "            raise ValueError(\"Must specify n to use adjustment.\")\n",
    "        min_rate = 1 / n\n",
    "        max_rate = 1 - 1 / n\n",
    "        hit_rate = np.clip(hit_rate, min_rate, max_rate)\n",
    "        false_alarm_rate = np.clip(false_alarm_rate, min_rate, max_rate)\n",
    "    d_prime = stats.norm.ppf(hit_rate) - stats.norm.ppf(false_alarm_rate)\n",
    "    return d_prime"
   ]
  },
  {
   "cell_type": "markdown",
   "id": "1168a624",
   "metadata": {},
   "source": [
    "### Modified"
   ]
  },
  {
   "cell_type": "code",
   "execution_count": 21,
   "id": "36b36d96",
   "metadata": {},
   "outputs": [],
   "source": [
    "# your modified version of the code here"
   ]
  },
  {
   "cell_type": "markdown",
   "id": "edcfb2ba",
   "metadata": {},
   "source": [
    "## Problem (graduate students): simplifying Polars code (2 points)\n",
    "\n",
    "Read about [Polars conditionals](https://docs.pola.rs/user-guide/expressions/basic-operations/#conditionals), which work sort of like `if/elif/else` statements. The code below uses `when/then` function calls to label each trial's response as a hit (\"old\" response to a target), miss (\"new\" response to a target), false alarm (\"old\" response to a lure), or correct rejection (\"new\" response to a lure). At the end, the `alias` function call indicates the name we want for the new column. Instead of using `alias`, we could have also indicated this by naming the `when/then` chain `response_time` in the input to the `with_columns` function, but using `alias` makes this example a little easier to read. The `then` calls determine what the value of the new column should be for each set of trials; for example, `then(pl.lit(\"hit\"))` indicates that the new column should be set to `\"hit\"` for those trials. In Polars, strings are often interpreted as column names, so we cannot just write `\"hit\"`; instead, we use the `pl.lit` (literal) function to indicate that we want the value to be `\"hit\"`, as opposed to us trying to access a column called `\"hit\"`.\n",
    "\n",
    "Note that there is a lot of repeated code here. For example, the `(pl.col(\"probe_type\") == \"target\")` expression appears twice and is not very easy to read. \n",
    "\n",
    "Rewrite the `add_response_type` function to create four intermediate variables named `target`, `lure`, `old`, and `new`, corresponding to the Polars expressions that filter for those types of trials. Use those variables in the four `when` calls to indicate which trials should have each label. For example, a `\"hit\"` trial corresponds to `target & old`. Because of how Polars works, this version of the function will run just as fast as the original and will be easier to read."
   ]
  },
  {
   "cell_type": "markdown",
   "id": "eef8f9d1",
   "metadata": {},
   "source": [
    "### Original"
   ]
  },
  {
   "cell_type": "code",
   "execution_count": 22,
   "id": "1abca622",
   "metadata": {},
   "outputs": [
    {
     "data": {
      "text/html": [
       "<div><style>\n",
       ".dataframe > thead > tr,\n",
       ".dataframe > tbody > tr {\n",
       "  text-align: right;\n",
       "  white-space: pre-wrap;\n",
       "}\n",
       "</style>\n",
       "<small>shape: (5, 13)</small><table border=\"1\" class=\"dataframe\"><thead><tr><th>subj</th><th>cycle</th><th>phase</th><th>trial</th><th>type</th><th>word1</th><th>word2</th><th>response</th><th>RT</th><th>correct</th><th>lag</th><th>probe_type</th><th>response_type</th></tr><tr><td>i64</td><td>i64</td><td>str</td><td>i64</td><td>str</td><td>str</td><td>str</td><td>i64</td><td>f64</td><td>i64</td><td>i64</td><td>str</td><td>str</td></tr></thead><tbody><tr><td>101</td><td>0</td><td>&quot;test&quot;</td><td>-1</td><td>&quot;rearranged&quot;</td><td>&quot;waste&quot;</td><td>&quot;degree&quot;</td><td>0</td><td>2.312</td><td>1</td><td>2</td><td>&quot;lure&quot;</td><td>&quot;correct rejection&quot;</td></tr><tr><td>101</td><td>0</td><td>&quot;test&quot;</td><td>0</td><td>&quot;rearranged&quot;</td><td>&quot;needed&quot;</td><td>&quot;able&quot;</td><td>0</td><td>3.542</td><td>1</td><td>1</td><td>&quot;lure&quot;</td><td>&quot;correct rejection&quot;</td></tr><tr><td>101</td><td>0</td><td>&quot;test&quot;</td><td>1</td><td>&quot;rearranged&quot;</td><td>&quot;single&quot;</td><td>&quot;clean&quot;</td><td>0</td><td>2.084</td><td>1</td><td>3</td><td>&quot;lure&quot;</td><td>&quot;correct rejection&quot;</td></tr><tr><td>101</td><td>0</td><td>&quot;test&quot;</td><td>2</td><td>&quot;rearranged&quot;</td><td>&quot;train&quot;</td><td>&quot;useful&quot;</td><td>0</td><td>1.669</td><td>1</td><td>2</td><td>&quot;lure&quot;</td><td>&quot;correct rejection&quot;</td></tr><tr><td>101</td><td>0</td><td>&quot;test&quot;</td><td>3</td><td>&quot;rearranged&quot;</td><td>&quot;knees&quot;</td><td>&quot;various&quot;</td><td>0</td><td>2.326</td><td>1</td><td>5</td><td>&quot;lure&quot;</td><td>&quot;correct rejection&quot;</td></tr></tbody></table></div>"
      ],
      "text/plain": [
       "shape: (5, 13)\n",
       "┌──────┬───────┬───────┬───────┬───┬─────────┬─────┬────────────┬───────────────────┐\n",
       "│ subj ┆ cycle ┆ phase ┆ trial ┆ … ┆ correct ┆ lag ┆ probe_type ┆ response_type     │\n",
       "│ ---  ┆ ---   ┆ ---   ┆ ---   ┆   ┆ ---     ┆ --- ┆ ---        ┆ ---               │\n",
       "│ i64  ┆ i64   ┆ str   ┆ i64   ┆   ┆ i64     ┆ i64 ┆ str        ┆ str               │\n",
       "╞══════╪═══════╪═══════╪═══════╪═══╪═════════╪═════╪════════════╪═══════════════════╡\n",
       "│ 101  ┆ 0     ┆ test  ┆ -1    ┆ … ┆ 1       ┆ 2   ┆ lure       ┆ correct rejection │\n",
       "│ 101  ┆ 0     ┆ test  ┆ 0     ┆ … ┆ 1       ┆ 1   ┆ lure       ┆ correct rejection │\n",
       "│ 101  ┆ 0     ┆ test  ┆ 1     ┆ … ┆ 1       ┆ 3   ┆ lure       ┆ correct rejection │\n",
       "│ 101  ┆ 0     ┆ test  ┆ 2     ┆ … ┆ 1       ┆ 2   ┆ lure       ┆ correct rejection │\n",
       "│ 101  ┆ 0     ┆ test  ┆ 3     ┆ … ┆ 1       ┆ 5   ┆ lure       ┆ correct rejection │\n",
       "└──────┴───────┴───────┴───────┴───┴─────────┴─────┴────────────┴───────────────────┘"
      ]
     },
     "execution_count": 22,
     "metadata": {},
     "output_type": "execute_result"
    }
   ],
   "source": [
    "from datascipsych import datasets\n",
    "import polars as pl\n",
    "\n",
    "\n",
    "def add_response_type(df):\n",
    "    df = df.with_columns(\n",
    "        pl.when((pl.col(\"probe_type\") == \"target\") & (pl.col(\"response\") == 1))\n",
    "        .then(pl.lit(\"hit\"))\n",
    "        .when((pl.col(\"probe_type\") == \"target\") & (pl.col(\"response\") == 0))\n",
    "        .then(pl.lit(\"miss\"))\n",
    "        .when((pl.col(\"probe_type\") == \"lure\") & (pl.col(\"response\") == 1))\n",
    "        .then(pl.lit(\"false alarm\"))\n",
    "        .when((pl.col(\"probe_type\") == \"lure\") & (pl.col(\"response\") == 0))\n",
    "        .then(pl.lit(\"correct rejection\"))\n",
    "        .alias(\"response_type\")\n",
    "    )\n",
    "    return df\n",
    "\n",
    "\n",
    "df_osth = datasets.clean_osth(pl.read_csv(dataset_file)).filter(\n",
    "    pl.col(\"phase\") == \"test\"\n",
    ")\n",
    "add_response_type(df_osth).head()"
   ]
  },
  {
   "cell_type": "markdown",
   "id": "99c761b0",
   "metadata": {},
   "source": [
    "### Modified"
   ]
  },
  {
   "cell_type": "code",
   "execution_count": 23,
   "id": "3e919aec",
   "metadata": {},
   "outputs": [],
   "source": [
    "# your modified version of the code here"
   ]
  }
 ],
 "metadata": {
  "kernelspec": {
   "display_name": "datascipsych",
   "language": "python",
   "name": "datascipsych"
  },
  "language_info": {
   "codemirror_mode": {
    "name": "ipython",
    "version": 3
   },
   "file_extension": ".py",
   "mimetype": "text/x-python",
   "name": "python",
   "nbconvert_exporter": "python",
   "pygments_lexer": "ipython3",
   "version": "3.12.8"
  }
 },
 "nbformat": 4,
 "nbformat_minor": 5
}
