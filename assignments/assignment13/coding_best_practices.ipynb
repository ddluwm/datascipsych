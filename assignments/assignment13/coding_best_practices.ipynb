{
 "cells": [
  {
   "cell_type": "markdown",
   "metadata": {
    "editable": true,
    "slideshow": {
     "slide_type": "slide"
    },
    "tags": []
   },
   "source": [
    "# Coding Best Practices\n",
    "\n",
    "When first getting started with coding, developers often write code that is \"good enough\" and then stop making improvements. However, this code may be hard to understand, contain bugs, and be hard to reuse or extend. Professional software developers have developed best practices to help avoid these problems."
   ]
  },
  {
   "cell_type": "markdown",
   "metadata": {
    "editable": true,
    "slideshow": {
     "slide_type": "slide"
    },
    "tags": []
   },
   "source": [
    "## Use consistent code style\n",
    "\n",
    "Python is pretty flexible about how code can be formatted. But there is a standard code style that is easy to use and helps make your code easier to read."
   ]
  },
  {
   "cell_type": "markdown",
   "metadata": {
    "editable": true,
    "slideshow": {
     "slide_type": "slide"
    },
    "tags": []
   },
   "source": [
    "Here is some code before formatting. With the random use of spaces and long lines of code, this is pretty hard to read."
   ]
  },
  {
   "cell_type": "code",
   "execution_count": 1,
   "metadata": {},
   "outputs": [],
   "source": [
    "import polars as pl\n",
    "from datascipsych import datasets\n",
    "\n",
    "def myfunction( x, y ):\n",
    "    z  = x+y #add some numbers\n",
    "    return z\n",
    "l=[1,2,3,4]\n",
    "d={'a':1,\"b\":2,\"c\":3}\n",
    "df = pl.read_csv(datasets.get_dataset_file(\"Morton2013\"), null_values=\"n/a\").filter(pl.col(\"study\")).group_by(\"subject\", \"list_type\", \"input\").agg(pl.col(\"recall\").mean())"
   ]
  },
  {
   "cell_type": "markdown",
   "metadata": {
    "editable": true,
    "slideshow": {
     "slide_type": "fragment"
    },
    "tags": []
   },
   "source": [
    "Luckily, we can use [Black](https://black.readthedocs.io/en/stable/), a tool for automatic reformatting of Python code, to reformat it."
   ]
  },
  {
   "cell_type": "markdown",
   "metadata": {
    "editable": true,
    "slideshow": {
     "slide_type": "fragment"
    },
    "tags": []
   },
   "source": [
    "Black has different ways of running it, including a command line tool and a plugin for VSCode. To use the VSCode plugin, install the Black Formatter from Microsoft, then right click on a code cell and select Format Cell. You can also use it to reformat code modules by right clicking on the code and running Format Document."
   ]
  },
  {
   "cell_type": "markdown",
   "metadata": {
    "editable": true,
    "slideshow": {
     "slide_type": "fragment"
    },
    "tags": []
   },
   "source": [
    "Try running the Black plugin on the code above. This will make the code much easier to read."
   ]
  },
  {
   "cell_type": "markdown",
   "metadata": {
    "editable": true,
    "slideshow": {
     "slide_type": "slide"
    },
    "tags": []
   },
   "source": [
    "After formatting, the code will look like this."
   ]
  },
  {
   "cell_type": "code",
   "execution_count": 2,
   "metadata": {
    "editable": true,
    "slideshow": {
     "slide_type": ""
    },
    "tags": []
   },
   "outputs": [],
   "source": [
    "import polars as pl\n",
    "from datascipsych import datasets\n",
    "\n",
    "\n",
    "def myfunction(x, y):\n",
    "    z = x + y  # add some numbers\n",
    "    return z\n",
    "\n",
    "\n",
    "l = [1, 2, 3, 4]\n",
    "d = {\"a\": 1, \"b\": 2, \"c\": 3}\n",
    "df = (\n",
    "    pl.read_csv(datasets.get_dataset_file(\"Morton2013\"), null_values=\"n/a\")\n",
    "    .filter(pl.col(\"study\"))\n",
    "    .group_by(\"subject\", \"list_type\", \"input\")\n",
    "    .agg(pl.col(\"recall\").mean())\n",
    ")"
   ]
  },
  {
   "cell_type": "markdown",
   "metadata": {
    "editable": true,
    "slideshow": {
     "slide_type": "fragment"
    },
    "tags": []
   },
   "source": [
    "Note that Black changes a lot of subtle things, like formatting how the list and dictionary are defined. It also splits up Polars commands in a helpful way, to make it easier to see what the various operations are."
   ]
  },
  {
   "cell_type": "markdown",
   "metadata": {
    "editable": true,
    "slideshow": {
     "slide_type": "slide"
    },
    "tags": []
   },
   "source": [
    "Black automatically reformats to match Python formatting guidelines, plus some additional rules that Black uses to increase consistency. The name \"Black\" comes from a quote from Henry Ford about the Model T car: \"Any customer can have a car painted any color that he wants so long as it is black\"."
   ]
  },
  {
   "cell_type": "markdown",
   "metadata": {
    "editable": true,
    "slideshow": {
     "slide_type": "fragment"
    },
    "tags": []
   },
   "source": [
    "I used to have a lot of recommendations for how to format code. Now I tell people: \"just use Black.\""
   ]
  },
  {
   "cell_type": "markdown",
   "metadata": {
    "editable": true,
    "slideshow": {
     "slide_type": "slide"
    },
    "tags": []
   },
   "source": [
    "Of course, Black won't change anything about how the code runs, so there are some recommended guidelines that it won't implement. For example, it's recommended that module import statements be placed at the top of a module. This makes it easier to see what modules are being used in the file and how they are named."
   ]
  },
  {
   "cell_type": "code",
   "execution_count": 3,
   "metadata": {},
   "outputs": [],
   "source": [
    "def myfunction(x, y):\n",
    "    \"\"\"Add two numbers.\"\"\"\n",
    "    z = x + y\n",
    "    return z\n",
    "\n",
    "\n",
    "import numpy as np  # not recommended (comes after other code)\n",
    "a = np.arange(6)"
   ]
  },
  {
   "cell_type": "markdown",
   "metadata": {
    "editable": true,
    "slideshow": {
     "slide_type": "slide"
    },
    "tags": []
   },
   "source": [
    "We should generally move the import statement to the top of the file before other code, unless there's a good reason to import it somewhere else."
   ]
  },
  {
   "cell_type": "code",
   "execution_count": 4,
   "metadata": {},
   "outputs": [],
   "source": [
    "import numpy as np\n",
    "\n",
    "\n",
    "def myfunction(x, y):\n",
    "    \"\"\"Add two numbers.\"\"\"\n",
    "    z = x + y\n",
    "    return z\n",
    "\n",
    "\n",
    "a = np.arange(6)"
   ]
  },
  {
   "cell_type": "markdown",
   "metadata": {
    "editable": true,
    "slideshow": {
     "slide_type": "fragment"
    },
    "tags": []
   },
   "source": [
    "Note also that [Python style guidelines](https://peps.python.org/pep-0008/#blank-lines) recommend having two blank lines above and below each function definition, to make them easier to spot separately from other code. Black will add these lines automatically."
   ]
  },
  {
   "cell_type": "markdown",
   "metadata": {
    "editable": true,
    "slideshow": {
     "slide_type": "slide"
    },
    "tags": []
   },
   "source": [
    "### Exercise: code style\n",
    "\n",
    "Use Black to reformat the following code. Also, make it so the import statements are all at the top of the cell."
   ]
  },
  {
   "cell_type": "code",
   "execution_count": 5,
   "metadata": {},
   "outputs": [],
   "source": [
    "import numpy as np\n",
    "b = np.zeros((1,2))\n",
    "import polars as pl\n",
    "data = pl.DataFrame({\"trial\":[1,2,3,4], \"correct\":[0,1,1,0], \"response_time\":[1.2,3.4,2.3,5.6]})"
   ]
  },
  {
   "cell_type": "markdown",
   "metadata": {
    "editable": true,
    "slideshow": {
     "slide_type": "slide"
    },
    "tags": []
   },
   "source": [
    "## Write code that is easy to read\n",
    "\n",
    "Code is read more often than it is written, so it is important to make code as easy to read as possible. You can use variable names and comments to communicate intent and clarify how things work."
   ]
  },
  {
   "cell_type": "markdown",
   "metadata": {
    "editable": true,
    "slideshow": {
     "slide_type": "slide"
    },
    "tags": []
   },
   "source": [
    "For example, say we have a DataFrame with response times for different conditions."
   ]
  },
  {
   "cell_type": "code",
   "execution_count": 6,
   "metadata": {},
   "outputs": [],
   "source": [
    "df_rt = pl.DataFrame(\n",
    "    {\n",
    "        \"subject\": [1, 1, 1, 1, 1, 1, 2, 2, 2, 2, 2, 2, 3, 3, 3, 3, 3, 3],\n",
    "        \"condition\": [1, 1, 1, 2, 2, 2, 1, 1, 1, 2, 2, 2, 1, 1, 1, 2, 2, 2],\n",
    "        \"response_time\": [1.2, 1.3, 1.6, 1.1, 1.0, 0.9, 0.3, 1.7, 1.8, 2.2, 2.3, 1.9, 1.8, 4.2, 0.4, 1.0, 2.3, 1.4]\n",
    "    }\n",
    ")"
   ]
  },
  {
   "cell_type": "markdown",
   "metadata": {
    "editable": true,
    "slideshow": {
     "slide_type": "slide"
    },
    "tags": []
   },
   "source": [
    "Say we have the following code to calculate the mean response time for each condition."
   ]
  },
  {
   "cell_type": "code",
   "execution_count": 7,
   "metadata": {},
   "outputs": [
    {
     "data": {
      "text/html": [
       "<div><style>\n",
       ".dataframe > thead > tr,\n",
       ".dataframe > tbody > tr {\n",
       "  text-align: right;\n",
       "  white-space: pre-wrap;\n",
       "}\n",
       "</style>\n",
       "<small>shape: (2, 3)</small><table border=\"1\" class=\"dataframe\"><thead><tr><th>subject</th><th>condition</th><th>response_time</th></tr><tr><td>i64</td><td>i64</td><td>f64</td></tr></thead><tbody><tr><td>1</td><td>1</td><td>1.366667</td></tr><tr><td>1</td><td>2</td><td>1.0</td></tr></tbody></table></div>"
      ],
      "text/plain": [
       "shape: (2, 3)\n",
       "┌─────────┬───────────┬───────────────┐\n",
       "│ subject ┆ condition ┆ response_time │\n",
       "│ ---     ┆ ---       ┆ ---           │\n",
       "│ i64     ┆ i64       ┆ f64           │\n",
       "╞═════════╪═══════════╪═══════════════╡\n",
       "│ 1       ┆ 1         ┆ 1.366667      │\n",
       "│ 1       ┆ 2         ┆ 1.0           │\n",
       "└─────────┴───────────┴───────────────┘"
      ]
     },
     "execution_count": 7,
     "metadata": {},
     "output_type": "execute_result"
    }
   ],
   "source": [
    "df_new = (\n",
    "    df_rt.group_by(\"subject\", \"condition\")\n",
    "    .agg(pl.col(\"response_time\").mean())\n",
    "    .sort(\"subject\", \"condition\")\n",
    ")\n",
    "df_new.head(2)"
   ]
  },
  {
   "cell_type": "markdown",
   "metadata": {
    "editable": true,
    "slideshow": {
     "slide_type": "fragment"
    },
    "tags": []
   },
   "source": [
    "It gets the job done, but it's a little hard to follow. The output has a generic name of `df_new`, which doesn't explain what it is. We have to read the Polars code to know what is happening."
   ]
  },
  {
   "cell_type": "markdown",
   "metadata": {
    "editable": true,
    "slideshow": {
     "slide_type": "slide"
    },
    "tags": []
   },
   "source": [
    "We can use variable names and/or comments to make this more obvious. We can add a comment by placing `#` in our code and writing text after it. Comments will be ignored by Python; they are just there to make code easier to understand."
   ]
  },
  {
   "cell_type": "code",
   "execution_count": 8,
   "metadata": {},
   "outputs": [],
   "source": [
    "# Get the mean response time for each combination of subject and condition\n",
    "mean_rt_condition = (\n",
    "    df_rt.group_by(\"subject\", \"condition\")\n",
    "    .agg(pl.col(\"response_time\").mean())\n",
    "    .sort(\"subject\", \"condition\")\n",
    ")"
   ]
  },
  {
   "cell_type": "markdown",
   "metadata": {
    "editable": true,
    "slideshow": {
     "slide_type": "fragment"
    },
    "tags": []
   },
   "source": [
    "\n",
    "In this version, we have a comment that summarizes what the block of code below it is doing. We also have renamed the output variable from the generic `df_new` to now be `mean_rt_condition`, to try to communicate that this variable has the mean response time by condition. "
   ]
  },
  {
   "cell_type": "markdown",
   "metadata": {
    "editable": true,
    "slideshow": {
     "slide_type": "slide"
    },
    "tags": []
   },
   "source": [
    "### Choosing informative variable names\n",
    "\n",
    "We always have to make some choices when naming variables. Here are some other options for what we could have named the `mean_rt_condition` variable:"
   ]
  },
  {
   "cell_type": "markdown",
   "metadata": {
    "editable": true,
    "slideshow": {
     "slide_type": "fragment"
    },
    "tags": []
   },
   "source": [
    "`m_rt_condition`: This abbreviates \"mean\" as \"m\". If we use this convention consistently in our code, it might be a little easier to type and still be comprehensible. But if only one mean variable is used in a code project, you're probably better off spelling out \"mean\" to make it easier to read."
   ]
  },
  {
   "cell_type": "markdown",
   "metadata": {
    "editable": true,
    "slideshow": {
     "slide_type": "fragment"
    },
    "tags": []
   },
   "source": [
    "`mean_response_time_condition`: This does not abbreviate \"rt\", and it makes the variable name a lot longer. Using \"rt\" for response time is common practice, so it is probably not worth writing it out."
   ]
  },
  {
   "cell_type": "markdown",
   "metadata": {
    "editable": true,
    "slideshow": {
     "slide_type": "fragment"
    },
    "tags": []
   },
   "source": [
    "`df_mean_rt_condition`: This adds \"df\" at the beginning to indicate that this variable is a DataFrame. That might be helpful to clarify in some contexts. In an analysis notebook, there will be a lot of DataFrame variables, so it's usually not necessary in that context."
   ]
  },
  {
   "cell_type": "markdown",
   "metadata": {
    "editable": true,
    "slideshow": {
     "slide_type": "slide"
    },
    "tags": []
   },
   "source": [
    "### Variable name conventions\n",
    "\n",
    "In Python, there are different types of variable names you can use:"
   ]
  },
  {
   "cell_type": "markdown",
   "metadata": {
    "editable": true,
    "slideshow": {
     "slide_type": "fragment"
    },
    "tags": []
   },
   "source": [
    "`lower_case_with_underscores`: This is how Python variables should usually be written. Most Python code follows this convention, so it will be easy for people to read. It's also relatively easy to type."
   ]
  },
  {
   "cell_type": "markdown",
   "metadata": {
    "editable": true,
    "slideshow": {
     "slide_type": "fragment"
    },
    "tags": []
   },
   "source": [
    "`UPPER_CASE_WITH_UNDERSCORES`: Used for variables that should not be changed. For example, say you want to set the figure height to be the same for all plots you make in a notebook. You could set `FIG_HEIGHT = 2` and refer to the `FIG_HEIGHT` variable when calling a Seaborn function, like `sns.somefunction(..., height=FIG_HEIGHT)`. The use of uppercase signals that you don't mean for that variable to be changed anywhere."
   ]
  },
  {
   "cell_type": "markdown",
   "metadata": {
    "editable": true,
    "slideshow": {
     "slide_type": "fragment"
    },
    "tags": []
   },
   "source": [
    "`CapitalizedWords`: Used for class names in Python. For example, `DataFrame` is a class, so it is written using capitalized words."
   ]
  },
  {
   "cell_type": "markdown",
   "metadata": {
    "editable": true,
    "slideshow": {
     "slide_type": "fragment"
    },
    "tags": []
   },
   "source": [
    "`Some_Mix_of_Capitalization_and_Underscores`: Combining capitalization and underscores makes variables a lot harder to type, so avoid doing this."
   ]
  },
  {
   "cell_type": "markdown",
   "metadata": {
    "editable": true,
    "slideshow": {
     "slide_type": "fragment"
    },
    "tags": []
   },
   "source": [
    "See the official [Python Style Guide](https://peps.python.org/pep-0008/) for more information about style and naming conventions."
   ]
  },
  {
   "cell_type": "markdown",
   "metadata": {
    "editable": true,
    "slideshow": {
     "slide_type": "slide"
    },
    "tags": []
   },
   "source": [
    "### Coding is a form of writing\n",
    "\n",
    "When developing code, keep in mind that coding is a form of *writing*. You aren't just writing for the computer, but also for an audience of humans."
   ]
  },
  {
   "cell_type": "markdown",
   "metadata": {
    "editable": true,
    "slideshow": {
     "slide_type": "fragment"
    },
    "tags": []
   },
   "source": [
    "Try to think about who your audience might be in the future. Sometimes, that will just be the future version of you. You may need some help to remember what you wrote, and why you wrote it!"
   ]
  },
  {
   "cell_type": "markdown",
   "metadata": {
    "editable": true,
    "slideshow": {
     "slide_type": "fragment"
    },
    "tags": []
   },
   "source": [
    "Other times, you will need to also think about whether your code is readable to others. It can help a lot to get feedback on your code, to see where people get confused."
   ]
  },
  {
   "cell_type": "markdown",
   "metadata": {
    "editable": true,
    "slideshow": {
     "slide_type": "slide"
    },
    "tags": []
   },
   "source": [
    "### Exercise: write code that is easy to read\n",
    "\n",
    "The code below creates a DataFrame with accuracy for trials in different conditions from a decision-making study, then calculates mean accuracy for each subject in each condition. Edit the code to use new variable names that communicate what they represent, instead of the unhelpful variable names `d` and `x`. Add a comment before each code block to explain what it is doing.\n",
    "\n",
    "There isn't a specific correct answer here. Writing code that is easy to read is more of an art than a science."
   ]
  },
  {
   "cell_type": "code",
   "execution_count": 9,
   "metadata": {},
   "outputs": [],
   "source": [
    "d = pl.DataFrame(\n",
    "    {\n",
    "        \"subject\": [1, 1, 1, 1, 2, 2, 2, 2, 3, 3, 3, 3],\n",
    "        \"condition\": [\"A\", \"A\", \"B\", \"B\", \"A\", \"A\", \"B\", \"B\", \"A\", \"A\", \"B\", \"B\"],\n",
    "        \"correct\": [1, 1, 0, 0, 0, 1, 1, 0, 1, 0, 0, 1],\n",
    "    }\n",
    ")\n",
    "\n",
    "col = (\n",
    "    d.group_by(\"subject\", \"condition\")\n",
    "    .agg(pl.col(\"correct\").mean())\n",
    "    .sort(\"subject\", \"condition\")\n",
    ")"
   ]
  },
  {
   "cell_type": "markdown",
   "metadata": {
    "editable": true,
    "slideshow": {
     "slide_type": "slide"
    },
    "tags": []
   },
   "source": [
    "## DRY: Don't repeat yourself\n",
    "\n",
    "The DRY principle says that we should avoid repeating ourselves when writing code. Programming languages are designed so that we should not have to write the same code over and over again. Repetitive code is harder to extend and debug."
   ]
  },
  {
   "cell_type": "markdown",
   "metadata": {
    "editable": true,
    "slideshow": {
     "slide_type": "slide"
    },
    "tags": []
   },
   "source": [
    "For example, say we have data from 8 subjects, in separate files, that we want to read and analyze. One way to do this is by running 8 different calls to `pl.read_csv`, changing the filename each time and assigning each one to a variable. After reading in the files, we can combine them into one DataFrame using `pl.concat`."
   ]
  },
  {
   "cell_type": "code",
   "execution_count": 10,
   "metadata": {},
   "outputs": [],
   "source": [
    "df1 = pl.read_csv(\"data/sub-01_beh.csv\")\n",
    "df2 = pl.read_csv(\"data/sub-02_beh.csv\")\n",
    "df3 = pl.read_csv(\"data/sub-03_beh.csv\")\n",
    "df4 = pl.read_csv(\"data/sub-04_beh.csv\")\n",
    "df5 = pl.read_csv(\"data/sub-05_beh.csv\")\n",
    "df6 = pl.read_csv(\"data/sub-05_beh.csv\")\n",
    "df7 = pl.read_csv(\"data/sub-05_beh.csv\")\n",
    "df8 = pl.read_csv(\"data/sub-05_beh.csv\")\n",
    "df_all = pl.concat([df1, df2, df3, df4, df5, df6, df7, df8])"
   ]
  },
  {
   "cell_type": "markdown",
   "metadata": {
    "editable": true,
    "slideshow": {
     "slide_type": "fragment"
    },
    "tags": []
   },
   "source": [
    "If we do lots of copying and pasting, this is relatively simple to write, but hard to work with in the future. What if the study is ongoing, and more subjects are being added? You would have to add and edit code each time to add those new subjects. What if the folder that the data are in changes, say to `rawdata` instead of `data`? You would have to edit the path of each file."
   ]
  },
  {
   "cell_type": "markdown",
   "metadata": {
    "editable": true,
    "slideshow": {
     "slide_type": "fragment"
    },
    "tags": []
   },
   "source": [
    "There is a better way: don't repeat yourself."
   ]
  },
  {
   "cell_type": "markdown",
   "metadata": {
    "editable": true,
    "slideshow": {
     "slide_type": "slide"
    },
    "tags": []
   },
   "source": [
    "In this example, we use a `for` loop instead. We have to do more thinking in advance, to figure out how to write the `for` loop, create each filename from the subject number, and add each DataFrame to our list of DataFrames. But the code doesn't need to be edited much as more subjects are added to the dataset. You can just change the `n_subj` variable."
   ]
  },
  {
   "cell_type": "code",
   "execution_count": 11,
   "metadata": {
    "editable": true,
    "slideshow": {
     "slide_type": ""
    },
    "tags": []
   },
   "outputs": [],
   "source": [
    "n_subj = 8\n",
    "df_list = []\n",
    "for i in range(1, n_subj + 1):\n",
    "    filename = f\"data/sub-{i:02}_beh.csv\"\n",
    "    df = pl.read_csv(filename)\n",
    "    df_list.append(df)\n",
    "df_all = pl.concat(df_list)"
   ]
  },
  {
   "cell_type": "markdown",
   "metadata": {
    "editable": true,
    "slideshow": {
     "slide_type": "fragment"
    },
    "tags": []
   },
   "source": [
    "In f-strings, we can optionally use various [format specifiers](https://docs.python.org/3/library/string.html#format-string-syntax). Here, we use `:02` to indicate that the number we are formatting should be padded with zeros to make a string with two digits."
   ]
  },
  {
   "cell_type": "markdown",
   "metadata": {
    "editable": true,
    "slideshow": {
     "slide_type": "slide"
    },
    "tags": []
   },
   "source": [
    "Writing functions can also help you avoid repeating yourself when coding. For example, say we want to exclude trials where the response time was an outlier, according to a standard criterion for detecting outliers. Say that we have two DataFrames with data from different experiments, but we want to apply the same sort of filtering to both."
   ]
  },
  {
   "cell_type": "code",
   "execution_count": 12,
   "metadata": {},
   "outputs": [],
   "source": [
    "df_rt1 = pl.DataFrame(\n",
    "    {\n",
    "        \"subject\": [\"01\", \"01\", \"01\", \"01\", \"02\", \"02\", \"02\", \"02\"],\n",
    "        \"condition\": [\"A\", \"A\", \"B\", \"B\", \"A\", \"A\", \"B\", \"B\"],\n",
    "        \"response_time\": [0.3, 0.6, 1.2, 0.9, 0.8, 0.4, 0.5, 3.4],\n",
    "    }\n",
    ")\n",
    "df_rt2 = pl.DataFrame(\n",
    "    {\n",
    "        \"subject\": [1, 1, 1, 1, 1, 1, 2, 2, 2, 2, 2, 2, 3, 3, 3, 3, 3, 3],\n",
    "        \"condition\": [1, 1, 1, 2, 2, 2, 1, 1, 1, 2, 2, 2, 1, 1, 1, 2, 2, 2],\n",
    "        \"response_time\": [1.2, 1.3, 1.6, 1.1, 1.0, 0.9, 0.3, 1.7, 1.8, 2.2, 2.3, 1.9, 1.8, 4.2, 0.4, 1.0, 2.3, 1.4]\n",
    "    }\n",
    ")"
   ]
  },
  {
   "cell_type": "markdown",
   "metadata": {
    "editable": true,
    "slideshow": {
     "slide_type": "slide"
    },
    "tags": []
   },
   "source": [
    "We can run this filtering on each DataFrame individually, like below, repeating the same long expression for each DataFrame. If we want to run this calculation again on another dataset in another context, such as a different analysis notebook, we'll have to remember how to define Q1, Q3, the IQR, etc. Each time we write the code again, there's a risk that we could mis-remember something and introduce a bug."
   ]
  },
  {
   "cell_type": "code",
   "execution_count": 13,
   "metadata": {},
   "outputs": [],
   "source": [
    "rt = pl.col(\"response_time\")\n",
    "q1 = rt.quantile(0.25)\n",
    "q3 = rt.quantile(0.75)\n",
    "iqr = q3 - q1\n",
    "df_rt1_filt = df_rt1.filter(~((rt < q1 - 1.5 * iqr) | (rt > q3 + 1.5 * iqr)))\n",
    "df_rt2_filt = df_rt2.filter(~((rt < q1 - 1.5 * iqr) | (rt > q3 + 1.5 * iqr)))"
   ]
  },
  {
   "cell_type": "markdown",
   "metadata": {
    "editable": true,
    "slideshow": {
     "slide_type": "slide"
    },
    "tags": []
   },
   "source": [
    "Instead, we could write a function. For example, let's make a function that takes in a DataFrame and filters out outliers."
   ]
  },
  {
   "cell_type": "code",
   "execution_count": 14,
   "metadata": {},
   "outputs": [],
   "source": [
    "def filter_rt_outliers(df):\n",
    "    \"\"\"Remove trials where the response time is an outlier.\"\"\"\n",
    "    rt = pl.col(\"response_time\")\n",
    "    q1 = rt.quantile(0.25)\n",
    "    q3 = rt.quantile(0.75)\n",
    "    iqr = q3 - q1\n",
    "    return df.filter(~((rt < q1 - 1.5 * iqr) | (rt > q3 + 1.5 * iqr)))"
   ]
  },
  {
   "cell_type": "markdown",
   "metadata": {
    "editable": true,
    "slideshow": {
     "slide_type": "slide"
    },
    "tags": []
   },
   "source": [
    "Now we don't need to remember the formula every time we remove outliers; we can just call the function."
   ]
  },
  {
   "cell_type": "code",
   "execution_count": 15,
   "metadata": {},
   "outputs": [],
   "source": [
    "df_rt1_filt = filter_rt_outliers(df_rt1)\n",
    "df_rt2_filt = filter_rt_outliers(df_rt2)"
   ]
  },
  {
   "cell_type": "markdown",
   "metadata": {
    "editable": true,
    "slideshow": {
     "slide_type": "fragment"
    },
    "tags": []
   },
   "source": [
    "If we need to remember how it works, that's easy to look up, because the formula is only defined in one place."
   ]
  },
  {
   "cell_type": "markdown",
   "metadata": {
    "editable": true,
    "slideshow": {
     "slide_type": "slide"
    },
    "tags": []
   },
   "source": [
    "### Exercise: Don't repeat yourself\n",
    "\n",
    "The code below calculates a mean for each subject and condition, then calculates the mean and SEM for response time across subjects. It runs exactly the same operations on `df_rt1` and `df_rt2`. \n",
    "\n",
    "Rewrite the code to use a function instead. Your function should take a DataFrame (`df_rt1` or `df_rt2`, but also any DataFrame with `subject`, `condition`, and `response_time` columns). Your function should return a `stats` DataFrame with the mean and SEM for each condition. Use your function to calculate statistics for the two DataFrames.\n",
    "\n",
    "Add a one-line docstring to explain what your function does.\n",
    "\n",
    "Improve your function by editing it to sort the `stats` output by condition before returning it."
   ]
  },
  {
   "cell_type": "code",
   "execution_count": 16,
   "metadata": {},
   "outputs": [
    {
     "data": {
      "text/html": [
       "<div><style>\n",
       ".dataframe > thead > tr,\n",
       ".dataframe > tbody > tr {\n",
       "  text-align: right;\n",
       "  white-space: pre-wrap;\n",
       "}\n",
       "</style>\n",
       "<small>shape: (2, 3)</small><table border=\"1\" class=\"dataframe\"><thead><tr><th>condition</th><th>mean</th><th>sem</th></tr><tr><td>str</td><td>f64</td><td>f64</td></tr></thead><tbody><tr><td>&quot;B&quot;</td><td>1.5</td><td>0.45</td></tr><tr><td>&quot;A&quot;</td><td>0.525</td><td>0.075</td></tr></tbody></table></div>"
      ],
      "text/plain": [
       "shape: (2, 3)\n",
       "┌───────────┬───────┬───────┐\n",
       "│ condition ┆ mean  ┆ sem   │\n",
       "│ ---       ┆ ---   ┆ ---   │\n",
       "│ str       ┆ f64   ┆ f64   │\n",
       "╞═══════════╪═══════╪═══════╡\n",
       "│ B         ┆ 1.5   ┆ 0.45  │\n",
       "│ A         ┆ 0.525 ┆ 0.075 │\n",
       "└───────────┴───────┴───────┘"
      ]
     },
     "metadata": {},
     "output_type": "display_data"
    },
    {
     "data": {
      "text/html": [
       "<div><style>\n",
       ".dataframe > thead > tr,\n",
       ".dataframe > tbody > tr {\n",
       "  text-align: right;\n",
       "  white-space: pre-wrap;\n",
       "}\n",
       "</style>\n",
       "<small>shape: (2, 3)</small><table border=\"1\" class=\"dataframe\"><thead><tr><th>condition</th><th>mean</th><th>sem</th></tr><tr><td>i64</td><td>f64</td><td>f64</td></tr></thead><tbody><tr><td>2</td><td>1.566667</td><td>0.327165</td></tr><tr><td>1</td><td>1.588889</td><td>0.273749</td></tr></tbody></table></div>"
      ],
      "text/plain": [
       "shape: (2, 3)\n",
       "┌───────────┬──────────┬──────────┐\n",
       "│ condition ┆ mean     ┆ sem      │\n",
       "│ ---       ┆ ---      ┆ ---      │\n",
       "│ i64       ┆ f64      ┆ f64      │\n",
       "╞═══════════╪══════════╪══════════╡\n",
       "│ 2         ┆ 1.566667 ┆ 0.327165 │\n",
       "│ 1         ┆ 1.588889 ┆ 0.273749 │\n",
       "└───────────┴──────────┴──────────┘"
      ]
     },
     "metadata": {},
     "output_type": "display_data"
    }
   ],
   "source": [
    "stats1 = (\n",
    "    df_rt1.group_by(\"subject\", \"condition\")\n",
    "    .agg(pl.col(\"response_time\").mean())\n",
    "    .group_by(\"condition\")\n",
    "    .agg(\n",
    "        mean=pl.col(\"response_time\").mean(),\n",
    "        sem=pl.col(\"response_time\").std() / pl.col(\"response_time\").len().sqrt(),\n",
    "    )\n",
    ")\n",
    "stats2 = (\n",
    "    df_rt2.group_by(\"subject\", \"condition\")\n",
    "    .agg(pl.col(\"response_time\").mean())\n",
    "    .group_by(\"condition\")\n",
    "    .agg(\n",
    "        mean=pl.col(\"response_time\").mean(),\n",
    "        sem=pl.col(\"response_time\").std() / pl.col(\"response_time\").len().sqrt(),\n",
    "    )\n",
    ")\n",
    "display(stats1)\n",
    "display(stats2)"
   ]
  },
  {
   "cell_type": "markdown",
   "metadata": {
    "editable": true,
    "slideshow": {
     "slide_type": "slide"
    },
    "tags": []
   },
   "source": [
    "## Enhance flexibility using soft-coding\n",
    "\n",
    "It's rare to write code that does everything you need on the first draft. Often, you will get code from someone else that does a lot of what you need to do, but will not work for your purposes without changes."
   ]
  },
  {
   "cell_type": "markdown",
   "metadata": {
    "editable": true,
    "slideshow": {
     "slide_type": "fragment"
    },
    "tags": []
   },
   "source": [
    "Don't be afraid to make changes. Code is meant to be revised, especially if you're using Git to track your changes."
   ]
  },
  {
   "cell_type": "markdown",
   "metadata": {
    "editable": true,
    "slideshow": {
     "slide_type": "slide"
    },
    "tags": []
   },
   "source": [
    "Let's go back to the outlier filtering example. What limitations does it have?"
   ]
  },
  {
   "cell_type": "code",
   "execution_count": 17,
   "metadata": {},
   "outputs": [],
   "source": [
    "def filter_rt_outliers(df):\n",
    "    \"\"\"Remove trials where the response time is an outlier.\"\"\"\n",
    "    rt = pl.col(\"response_time\")\n",
    "    q1 = rt.quantile(0.25)\n",
    "    q3 = rt.quantile(0.75)\n",
    "    iqr = q3 - q1\n",
    "    return df.filter(~((rt < q1 - 1.5 * iqr) | (rt > q3 + 1.5 * iqr)))"
   ]
  },
  {
   "cell_type": "markdown",
   "metadata": {
    "editable": true,
    "slideshow": {
     "slide_type": "fragment"
    },
    "tags": []
   },
   "source": [
    "One problem is that it assumes that the column with response time is named `\"response_time\"`. Another issue is that it assumes that you would only want to filter out trials that are outliers with response time. But you could also have some other measure with outliers. For example, say you wanted to exclude participants whose performance is an outlier."
   ]
  },
  {
   "cell_type": "markdown",
   "metadata": {
    "editable": true,
    "slideshow": {
     "slide_type": "slide"
    },
    "tags": []
   },
   "source": [
    "We can solve both of these problems by adding an input that determines the column to use. This is called shifting from *hard-coding*, where some value is written directly in the code, to *soft-coding*, where the value is taken in by the function, making the function more flexible."
   ]
  },
  {
   "cell_type": "code",
   "execution_count": 18,
   "metadata": {},
   "outputs": [],
   "source": [
    "def filter_outliers(df, column):\n",
    "    \"\"\"Remove trials where some measure is an outlier.\"\"\"\n",
    "    x = pl.col(column)\n",
    "    q1 = x.quantile(0.25)\n",
    "    q3 = x.quantile(0.75)\n",
    "    iqr = q3 - q1\n",
    "    return df.filter(~((x < q1 - 1.5 * iqr) | (x > q3 + 1.5 * iqr)))"
   ]
  },
  {
   "cell_type": "markdown",
   "metadata": {
    "editable": true,
    "slideshow": {
     "slide_type": "fragment"
    },
    "tags": []
   },
   "source": [
    "Note that the column doesn't necessarily represent response time anymore, so we have renamed the `rt` variable to `x` to reflect that."
   ]
  },
  {
   "cell_type": "markdown",
   "metadata": {
    "editable": true,
    "slideshow": {
     "slide_type": "slide"
    },
    "tags": []
   },
   "source": [
    "It turns out that we can make the outlier-detection code even more flexible. The `is_outlier` function below can be passed any column expression, such as `pl.col(\"response_time\")` and will return an expression that will evaluate whether each value in that column is an outlier. Now, instead of hard-coding the `filter` operation, we can use the expression in any way we want."
   ]
  },
  {
   "cell_type": "code",
   "execution_count": 19,
   "metadata": {
    "editable": true,
    "slideshow": {
     "slide_type": ""
    },
    "tags": []
   },
   "outputs": [],
   "source": [
    "def is_outlier(col):\n",
    "    \"\"\"Return an expression to evaluate whether elements of a column are outliers.\"\"\"\n",
    "    q1 = col.quantile(0.25)\n",
    "    q3 = col.quantile(0.75)\n",
    "    iqr = q3 - q1\n",
    "    return (col < q1 - 1.5 * iqr) | (col > q3 + 1.5 * iqr)"
   ]
  },
  {
   "cell_type": "markdown",
   "metadata": {
    "editable": true,
    "slideshow": {
     "slide_type": "fragment"
    },
    "tags": []
   },
   "source": [
    "With the `is_outlier` function, we can now filter a DataFrame using outlier detection and other types of filtering, like getting trials in a given condition, all together."
   ]
  },
  {
   "cell_type": "code",
   "execution_count": 20,
   "metadata": {},
   "outputs": [
    {
     "data": {
      "text/html": [
       "<div><style>\n",
       ".dataframe > thead > tr,\n",
       ".dataframe > tbody > tr {\n",
       "  text-align: right;\n",
       "  white-space: pre-wrap;\n",
       "}\n",
       "</style>\n",
       "<small>shape: (4, 3)</small><table border=\"1\" class=\"dataframe\"><thead><tr><th>subject</th><th>condition</th><th>response_time</th></tr><tr><td>str</td><td>str</td><td>f64</td></tr></thead><tbody><tr><td>&quot;01&quot;</td><td>&quot;A&quot;</td><td>0.3</td></tr><tr><td>&quot;01&quot;</td><td>&quot;A&quot;</td><td>0.6</td></tr><tr><td>&quot;02&quot;</td><td>&quot;A&quot;</td><td>0.8</td></tr><tr><td>&quot;02&quot;</td><td>&quot;A&quot;</td><td>0.4</td></tr></tbody></table></div>"
      ],
      "text/plain": [
       "shape: (4, 3)\n",
       "┌─────────┬───────────┬───────────────┐\n",
       "│ subject ┆ condition ┆ response_time │\n",
       "│ ---     ┆ ---       ┆ ---           │\n",
       "│ str     ┆ str       ┆ f64           │\n",
       "╞═════════╪═══════════╪═══════════════╡\n",
       "│ 01      ┆ A         ┆ 0.3           │\n",
       "│ 01      ┆ A         ┆ 0.6           │\n",
       "│ 02      ┆ A         ┆ 0.8           │\n",
       "│ 02      ┆ A         ┆ 0.4           │\n",
       "└─────────┴───────────┴───────────────┘"
      ]
     },
     "execution_count": 20,
     "metadata": {},
     "output_type": "execute_result"
    }
   ],
   "source": [
    "df_rt1.filter(~is_outlier(pl.col(\"response_time\")) & (pl.col(\"condition\") == \"A\"))"
   ]
  },
  {
   "cell_type": "markdown",
   "metadata": {
    "editable": true,
    "slideshow": {
     "slide_type": "slide"
    },
    "tags": []
   },
   "source": [
    "This method also allows us to do more advanced things. For example, we can use the `over` method to calculate outliers relative to each subject's data, rather than across the whole dataset."
   ]
  },
  {
   "cell_type": "code",
   "execution_count": 21,
   "metadata": {},
   "outputs": [
    {
     "data": {
      "text/html": [
       "<div><style>\n",
       ".dataframe > thead > tr,\n",
       ".dataframe > tbody > tr {\n",
       "  text-align: right;\n",
       "  white-space: pre-wrap;\n",
       "}\n",
       "</style>\n",
       "<small>shape: (7, 3)</small><table border=\"1\" class=\"dataframe\"><thead><tr><th>subject</th><th>condition</th><th>response_time</th></tr><tr><td>str</td><td>str</td><td>f64</td></tr></thead><tbody><tr><td>&quot;01&quot;</td><td>&quot;A&quot;</td><td>0.3</td></tr><tr><td>&quot;01&quot;</td><td>&quot;A&quot;</td><td>0.6</td></tr><tr><td>&quot;01&quot;</td><td>&quot;B&quot;</td><td>1.2</td></tr><tr><td>&quot;01&quot;</td><td>&quot;B&quot;</td><td>0.9</td></tr><tr><td>&quot;02&quot;</td><td>&quot;A&quot;</td><td>0.8</td></tr><tr><td>&quot;02&quot;</td><td>&quot;A&quot;</td><td>0.4</td></tr><tr><td>&quot;02&quot;</td><td>&quot;B&quot;</td><td>0.5</td></tr></tbody></table></div>"
      ],
      "text/plain": [
       "shape: (7, 3)\n",
       "┌─────────┬───────────┬───────────────┐\n",
       "│ subject ┆ condition ┆ response_time │\n",
       "│ ---     ┆ ---       ┆ ---           │\n",
       "│ str     ┆ str       ┆ f64           │\n",
       "╞═════════╪═══════════╪═══════════════╡\n",
       "│ 01      ┆ A         ┆ 0.3           │\n",
       "│ 01      ┆ A         ┆ 0.6           │\n",
       "│ 01      ┆ B         ┆ 1.2           │\n",
       "│ 01      ┆ B         ┆ 0.9           │\n",
       "│ 02      ┆ A         ┆ 0.8           │\n",
       "│ 02      ┆ A         ┆ 0.4           │\n",
       "│ 02      ┆ B         ┆ 0.5           │\n",
       "└─────────┴───────────┴───────────────┘"
      ]
     },
     "execution_count": 21,
     "metadata": {},
     "output_type": "execute_result"
    }
   ],
   "source": [
    "df_rt1.filter(~is_outlier(pl.col(\"response_time\").over(\"subject\")))"
   ]
  },
  {
   "cell_type": "markdown",
   "metadata": {
    "editable": true,
    "slideshow": {
     "slide_type": "fragment"
    },
    "tags": []
   },
   "source": [
    "Using the `over` function makes it so that we will not reject data from a subject that has very fast or very slow responses on average, because assessing outliers is done separately within each subject's data."
   ]
  },
  {
   "cell_type": "markdown",
   "metadata": {
    "editable": true,
    "slideshow": {
     "slide_type": "slide"
    },
    "tags": []
   },
   "source": [
    "We started with a useful function that allowed us to filter trials to remove response time outliers. By focusing only on the core functionality of writing an expression to detect outliers, we ended up with a much more flexible function that can be used in multiple ways."
   ]
  },
  {
   "cell_type": "markdown",
   "metadata": {
    "editable": true,
    "slideshow": {
     "slide_type": "slide"
    },
    "tags": []
   },
   "source": [
    "### Exercise: enhance flexibility using soft-coding\n",
    "\n",
    "The function below does just one thing: it reads a CSV file from the `data` directory. It doesn't do it very well, though, because it is hard-coded to load one specific file.\n",
    "\n",
    "Edit the function to make it so it can read in any one file, based on a new `data_file` input to the `read_data` function. Test it by passing `\"data/sub-01_beh.csv\"` as the `data_file`.\n",
    "\n",
    "#### Advanced\n",
    "\n",
    "Change your function so it takes in just the subject string (for example, `\"01\"` or `\"02\"`) and returns the corresponding DataFrame."
   ]
  },
  {
   "cell_type": "code",
   "execution_count": 22,
   "metadata": {},
   "outputs": [],
   "source": [
    "def read_data():\n",
    "    \"\"\"Read a CSV file from the data directory.\"\"\"\n",
    "    df = pl.read_csv(\"data/sub-01_beh.csv\")\n",
    "    return df\n",
    "\n",
    "# your code here"
   ]
  },
  {
   "cell_type": "markdown",
   "metadata": {
    "editable": true,
    "slideshow": {
     "slide_type": "slide"
    },
    "tags": []
   },
   "source": [
    "## Track changes to your code\n",
    "\n",
    "New coders may wonder whether version tracking is necessary. Why not just edit code as needed, without tracking changes explicitly?"
   ]
  },
  {
   "cell_type": "markdown",
   "metadata": {
    "editable": true,
    "slideshow": {
     "slide_type": "fragment"
    },
    "tags": []
   },
   "source": [
    "Professional software developers, however, consistently use version tracking. They know from experience that it helps avoid problems and makes it easier to make improvements. There are a few main reasons that version tracking is useful."
   ]
  },
  {
   "cell_type": "markdown",
   "metadata": {
    "editable": true,
    "slideshow": {
     "slide_type": "slide"
    },
    "tags": []
   },
   "source": [
    "### Coders tend to create different versions of code anyway\n",
    "\n",
    "As you work on code, you will likely encounter some situations where you feel like you need to add a version tag. For example, maybe you are making a change that might add a bug or even break backwards compatibility. You might feel the need to add a tag on the end to indicate this. For example, you might start with a notebook called `project.ipynb`, and then make a new notebook with changes called `project_v2.ipynb`, then `project_v3.ipynb`, etc."
   ]
  },
  {
   "cell_type": "markdown",
   "metadata": {
    "editable": true,
    "slideshow": {
     "slide_type": "fragment"
    },
    "tags": []
   },
   "source": [
    "Instead, you can keep the same file name (`project.ipynb`) and just commit changes to GitHub. That way, the full history will be available, and you can browse it anytime, without having to keep renaming files and trying to remember what `v1`, `v2`, `v3`, etc. mean."
   ]
  },
  {
   "cell_type": "markdown",
   "metadata": {
    "editable": true,
    "slideshow": {
     "slide_type": "fragment"
    },
    "tags": []
   },
   "source": [
    "Tools that work with Git, such as Visual Studio Code, make it easy to see what changes were made; just open the source control tab, expand the graph pane, and click on the commit, to see all the changes associated with that commit. You can see all the changes associated with this project, `datascipsych`, in the Git history, along with commit messages explaining the changes and the identity of the person who made the commit."
   ]
  },
  {
   "cell_type": "markdown",
   "metadata": {
    "editable": true,
    "slideshow": {
     "slide_type": "slide"
    },
    "tags": []
   },
   "source": [
    "### Coders are often afraid to make changes that are not tracked\n",
    "\n",
    "People working with existing code are often very hesitant to make changes. Using version tracking can make editing code feel less risky, because the full history of that code is always available."
   ]
  },
  {
   "cell_type": "markdown",
   "metadata": {
    "editable": true,
    "slideshow": {
     "slide_type": "fragment"
    },
    "tags": []
   },
   "source": [
    "The log of changes makes it easy to see who made each change, and the commit messages make it easier to understand why the change was made. If it turns out that you made a bad change that includes a bug, you can always look back at the old version, copy the old code, and make a commit undoing your older commit."
   ]
  },
  {
   "cell_type": "markdown",
   "metadata": {
    "editable": true,
    "slideshow": {
     "slide_type": "slide"
    },
    "tags": []
   },
   "source": [
    "### Coders often need to work together\n",
    "\n",
    "Version tracking platforms like GitHub make it easier to share code and changes to code."
   ]
  },
  {
   "cell_type": "markdown",
   "metadata": {
    "editable": true,
    "slideshow": {
     "slide_type": "fragment"
    },
    "tags": []
   },
   "source": [
    "Git makes it possible to work on changes in an isolated *branch* of code, allowing you to take some time to develop a new feature or potential fix to a bug without risking breaking existing code. Using a branch for development takes a lot of pressure off any given change, because you can work with other developers to make sure your code is good before merging it into the main branch. The GitHub website has more information about [working with branches](https://docs.github.com/en/pull-requests/collaborating-with-pull-requests/proposing-changes-to-your-work-with-pull-requests/about-branches)."
   ]
  },
  {
   "cell_type": "markdown",
   "metadata": {
    "editable": true,
    "slideshow": {
     "slide_type": "slide"
    },
    "tags": []
   },
   "source": [
    "Most code projects hosted on GitHub will accept submissions from the community. For example, you could fork Pingouin, make an improvement, and open a *pull request* to suggest your changes to the developers of Pingouin. Then there are tools for the developers to have a back-and-forth with you where they can discuss your proposed changes and suggest changes. When they are satisfied, they can accept the pull request and merge your changes into the official repository!"
   ]
  },
  {
   "cell_type": "markdown",
   "metadata": {
    "editable": true,
    "slideshow": {
     "slide_type": "fragment"
    },
    "tags": []
   },
   "source": [
    "Code projects on GitHub often include instructions on how you can contribute code or documentation to a project. For example, my Python package, [Psifr](https://psifr.readthedocs.io/en/stable/), includes instructions for [contributing code](https://github.com/mortonne/psifr/blob/master/.github/CONTRIBUTING.md)."
   ]
  },
  {
   "cell_type": "markdown",
   "metadata": {
    "editable": true,
    "slideshow": {
     "slide_type": "fragment"
    },
    "tags": []
   },
   "source": [
    "Contributing to existing projects on GitHub can help you establish yourself as a software developer with real-world experience. The GitHub website has more information on [using pull requests](https://docs.github.com/en/pull-requests/collaborating-with-pull-requests/proposing-changes-to-your-work-with-pull-requests/about-pull-requests)."
   ]
  },
  {
   "cell_type": "markdown",
   "metadata": {
    "editable": true,
    "slideshow": {
     "slide_type": "slide"
    },
    "tags": []
   },
   "source": [
    "### Exercise: track changes to your code\n",
    "\n",
    "Open your final project code. In Visual Studio Code, you can run `File > New Window`, then open your project in the new window. If you do not have a Git repository for your code project, create one in Visual Studio Code (you can do this in the Source Control tab). Make a change to your code, such as running Black to format your code, adding a new function, or adding documentation to an existing function. Go to the Source Control tab and add changes to the staging area. Write an informative commit message and click the Commit button to commit your changes to the project history."
   ]
  },
  {
   "cell_type": "markdown",
   "metadata": {
    "editable": true,
    "slideshow": {
     "slide_type": "slide"
    },
    "tags": []
   },
   "source": [
    "## Use modules for functions and notebooks for display\n",
    "\n",
    "We've seen how functions can improve the flexibility and reusability of our code. We can define functions anywhere we want, including in modules and in notebooks. But where *should* functions be placed?"
   ]
  },
  {
   "cell_type": "markdown",
   "metadata": {
    "editable": true,
    "slideshow": {
     "slide_type": "slide"
    },
    "tags": []
   },
   "source": [
    "### Raw notebook code\n",
    "\n",
    "Notebooks have a lot of extra code that defines different types of cells and metadata for the notebook. Jupyter notebooks are actually stored in JSON format. You can use a text editor to see what the raw code of Jupyter notebooks looks like. In Visual Studio Code, right click on a notebook and select `Open With...`, then choose `Text Editor`. Instead of seeing code cells that you can run, like usual, now you will see the raw JSON code."
   ]
  },
  {
   "cell_type": "markdown",
   "metadata": {
    "editable": true,
    "slideshow": {
     "slide_type": "slide"
    },
    "tags": []
   },
   "source": [
    "For example, the first code cell in this notebook has the following code: \n",
    "\n",
    "```python\n",
    "import polars as pl\n",
    "from datascipsych import datasets\n",
    "\n",
    "def myfunction( x, y ):\n",
    "    z  = x+y #add some numbers\n",
    "    return z\n",
    "l=[1,2,3,4]\n",
    "d={'a':1,\"b\":2,\"c\":3}\n",
    "df = pl.read_csv(datasets.get_dataset_file(\"Morton2013\"), null_values=\"n/a\").filter(pl.col(\"study\")).group_by(\"subject\", \"list_type\", \"input\").agg(pl.col(\"recall\").mean())\n",
    "```"
   ]
  },
  {
   "cell_type": "markdown",
   "metadata": {
    "editable": true,
    "slideshow": {
     "slide_type": "slide"
    },
    "tags": []
   },
   "source": [
    "The raw data in the JSON file looks like this:\n",
    "\n",
    "```json\n",
    "{\n",
    "   \"cell_type\": \"code\",\n",
    "   \"execution_count\": 1,\n",
    "   \"metadata\": {},\n",
    "   \"outputs\": [],\n",
    "   \"source\": [\n",
    "    \"import polars as pl\\n\",\n",
    "    \"from datascipsych import datasets\\n\",\n",
    "    \"\\n\",\n",
    "    \"def myfunction( x, y ):\\n\",\n",
    "    \"    z  = x+y #add some numbers\\n\",\n",
    "    \"    return z\\n\",\n",
    "    \"l=[1,2,3,4]\\n\",\n",
    "    \"d={'a':1,\\\"b\\\":2,\\\"c\\\":3}\\n\",\n",
    "    \"df = pl.read_csv(datasets.get_dataset_file(\\\"Morton2013\\\"), null_values=\\\"n/a\\\").filter(pl.col(\\\"study\\\")).group_by(\\\"subject\\\", \\\"list_type\\\", \\\"input\\\").agg(pl.col(\\\"recall\\\").mean())\"\n",
    "   ]\n",
    "  }\n",
    "```"
   ]
  },
  {
   "cell_type": "markdown",
   "metadata": {
    "editable": true,
    "slideshow": {
     "slide_type": "fragment"
    },
    "tags": []
   },
   "source": [
    "Hard to read, right? The first cells define the type of cell, execution count, metadata attributes, outputs (if any), and then finally the source code. The `\\n` codes you see are called *newline* characters that indicate the end of a line of text. When you commit changes to notebook code to a Git repository, you are committing changes to this raw source code."
   ]
  },
  {
   "cell_type": "markdown",
   "metadata": {
    "editable": true,
    "slideshow": {
     "slide_type": "slide"
    },
    "tags": []
   },
   "source": [
    "The complexity of the `.ipynb` file format makes it harder to follow changes to code stored in notebooks. In notebook code, a code cell might show up as \"modified\" in Git just because you ran the cell and changed the execution count, or because the output changed slightly just because you re-made a plot. In contrast, module code only reflects changes in the code itself."
   ]
  },
  {
   "cell_type": "markdown",
   "metadata": {
    "editable": true,
    "slideshow": {
     "slide_type": "slide"
    },
    "tags": []
   },
   "source": [
    "### Using code modules\n",
    "\n",
    "Placing function definitions in modules helps you follow the DRY principle, making it easier to share code between notebooks or even between different projects."
   ]
  },
  {
   "cell_type": "markdown",
   "metadata": {
    "editable": true,
    "slideshow": {
     "slide_type": "fragment"
    },
    "tags": []
   },
   "source": [
    "Furthermore, in contrast to notebook code, the code in a module, which is stored in a `.py` file, like in the `datascipsych.examples` module, is just code with no metadata. This makes it much easier to track changes to module code than changes in notebook code. "
   ]
  },
  {
   "cell_type": "markdown",
   "metadata": {
    "editable": true,
    "slideshow": {
     "slide_type": "slide"
    },
    "tags": []
   },
   "source": [
    "Because functions in a notebook cannot be used in other notebooks, and because changes to notebook code are hard to track, it's a good idea to keep your function definitions in a code module instead of in a notebook. A good rule of thumb is to not use any `def` statements in a notebook. That makes it easier to make incremental improvements to functions (for example, to add documentation, optional inputs, or fix bugs) that are easy to keep track of in your Git history."
   ]
  },
  {
   "cell_type": "markdown",
   "metadata": {
    "editable": true,
    "slideshow": {
     "slide_type": "fragment"
    },
    "tags": []
   },
   "source": [
    "Instead, use notebooks for *display*. That is, use them to run high-level code that produces output you want to organize together. This lets you (and any reader) see how the code works at a high level, together with the results of that code. If they need to see the details, they can look at your module code to see the function definitions."
   ]
  },
  {
   "cell_type": "markdown",
   "metadata": {
    "editable": true,
    "slideshow": {
     "slide_type": "slide"
    },
    "tags": []
   },
   "source": [
    "### Exercise: Use modules for functions\n",
    "\n",
    "Take the `is_outlier` function shown below and add it to the `datascipsych.examples` module. Then import the `examples` module and run filtering using your new module function (see code below).\n",
    "\n",
    "```python\n",
    "def is_outlier(col):\n",
    "    \"\"\"Return an expression to evaluate whether elements of a column are outliers.\"\"\"\n",
    "    q1 = col.quantile(0.25)\n",
    "    q3 = col.quantile(0.75)\n",
    "    iqr = q3 - q1\n",
    "    return (col < q1 - 1.5 * iqr) | (col > q3 + 1.5 * iqr)\n",
    "```\n",
    "\n",
    "If you have already imported the `examples` module, you will need to reload it after making your edits. You can do this by running:\n",
    "\n",
    "```python\n",
    "import importlib\n",
    "importlib.reload(examples)\n",
    "```\n",
    "\n",
    "If you have not installed the `datascipsych` package as editable, you can do that by opening a terminal and running `pip install -e .` to make your install be *editable* so that changes to the source code are available after you import or reload the module."
   ]
  },
  {
   "cell_type": "code",
   "execution_count": 23,
   "metadata": {},
   "outputs": [],
   "source": [
    "# from datascipsych import examples  # uncomment and run after editing examples.py\n",
    "# df_rt1.filter(~examples.is_outlier(pl.col(\"response_time\").over(\"subject\")))  # uncomment to try running your new function"
   ]
  },
  {
   "cell_type": "markdown",
   "metadata": {
    "editable": true,
    "slideshow": {
     "slide_type": "slide"
    },
    "tags": []
   },
   "source": [
    "## Summary"
   ]
  },
  {
   "cell_type": "markdown",
   "metadata": {
    "editable": true,
    "slideshow": {
     "slide_type": "fragment"
    },
    "tags": []
   },
   "source": [
    "### Use consistent code style\n",
    "Follow style guidelines and run Black on your code to reformat it."
   ]
  },
  {
   "cell_type": "markdown",
   "metadata": {
    "editable": true,
    "slideshow": {
     "slide_type": "fragment"
    },
    "tags": []
   },
   "source": [
    "### Write code that is easy to read\n",
    "Add comments to your code to explain it, and choose variable names that clarify what you are trying to do."
   ]
  },
  {
   "cell_type": "markdown",
   "metadata": {
    "editable": true,
    "slideshow": {
     "slide_type": "fragment"
    },
    "tags": []
   },
   "source": [
    "### Don't repeat yourself\n",
    "Use `for` loops and functions to avoid copying and pasting code."
   ]
  },
  {
   "cell_type": "markdown",
   "metadata": {
    "editable": true,
    "slideshow": {
     "slide_type": "slide"
    },
    "tags": []
   },
   "source": [
    "### Enhance flexibility using soft-coding\n",
    "Look for places where you can use a variable instead of hard-coding."
   ]
  },
  {
   "cell_type": "markdown",
   "metadata": {
    "editable": true,
    "slideshow": {
     "slide_type": "fragment"
    },
    "tags": []
   },
   "source": [
    "### Track changes to your code\n",
    "Use version tracking tools such as Git and GitHub to keep track of your changes. These tools also make it much easier to work with others on code, and make it possible for anyone to contribute to open-source packages."
   ]
  },
  {
   "cell_type": "markdown",
   "metadata": {
    "editable": true,
    "slideshow": {
     "slide_type": "fragment"
    },
    "tags": []
   },
   "source": [
    "### Use modules for functions and notebooks for display\n",
    "Write function definitions in modules (`.py` files) instead of notebooks, to make changes easier to track."
   ]
  }
 ],
 "metadata": {
  "kernelspec": {
   "display_name": "datascipsych",
   "language": "python",
   "name": "datascipsych"
  },
  "language_info": {
   "codemirror_mode": {
    "name": "ipython",
    "version": 3
   },
   "file_extension": ".py",
   "mimetype": "text/x-python",
   "name": "python",
   "nbconvert_exporter": "python",
   "pygments_lexer": "ipython3",
   "version": "3.12.8"
  }
 },
 "nbformat": 4,
 "nbformat_minor": 4
}
