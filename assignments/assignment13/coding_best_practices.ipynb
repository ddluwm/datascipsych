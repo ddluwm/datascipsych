{
 "cells": [
  {
   "cell_type": "markdown",
   "metadata": {},
   "source": [
    "# Coding Best Practices\n",
    "\n",
    "When first getting started with coding, developers often write code that is \"good enough\" and then stop making improvements. However, this code may be hard to understand, contain bugs, and be hard to reuse or extend. Professional software developers have developed best practices to help avoid these problems."
   ]
  },
  {
   "cell_type": "markdown",
   "metadata": {},
   "source": [
    "## Code style\n",
    "\n",
    "Python is mostly pretty flexible about how code can be formatted. But there is a standard code style that is easy to use and helps make your code easier to read."
   ]
  },
  {
   "cell_type": "markdown",
   "metadata": {},
   "source": [
    "Here is some code before formatting. With the random use of spaces and long lines of code, this is pretty hard to read."
   ]
  },
  {
   "cell_type": "code",
   "execution_count": 1,
   "metadata": {},
   "outputs": [],
   "source": [
    "import polars as pl\n",
    "from datascipsych import datasets\n",
    "\n",
    "def myfunction( x, y ):\n",
    "    #add some numbers\n",
    "    z  = x+y\n",
    "    return z\n",
    "l=[1,2,3,4]\n",
    "d={'a':1,\"b\":2,\"c\":3}\n",
    "df = pl.read_csv(datasets.get_dataset_file(\"Morton2013\"), null_values=\"n/a\").filter(pl.col(\"study\")).group_by(\"subject\", \"list_type\", \"input\").agg(pl.col(\"recall\").mean())"
   ]
  },
  {
   "cell_type": "markdown",
   "metadata": {},
   "source": [
    "Luckily, we can use [Black](https://black.readthedocs.io/en/stable/), a tool for automatic reformatting of Python code, to reformat it. Black has different ways of running it, including a command line tool and a plugin for VSCode. Now the code is much easier to read."
   ]
  },
  {
   "cell_type": "code",
   "execution_count": 2,
   "metadata": {},
   "outputs": [],
   "source": [
    "import polars as pl\n",
    "from datascipsych import datasets\n",
    "\n",
    "\n",
    "def myfunction(x, y):\n",
    "    # add some numbers\n",
    "    z = x + y\n",
    "    return z\n",
    "\n",
    "\n",
    "l = [1, 2, 3, 4]\n",
    "d = {\"a\": 1, \"b\": 2, \"c\": 3}\n",
    "df = (\n",
    "    pl.read_csv(datasets.get_dataset_file(\"Morton2013\"), null_values=\"n/a\")\n",
    "    .filter(pl.col(\"study\"))\n",
    "    .group_by(\"subject\", \"list_type\", \"input\")\n",
    "    .agg(pl.col(\"recall\").mean())\n",
    ")"
   ]
  },
  {
   "cell_type": "markdown",
   "metadata": {},
   "source": [
    "Black automatically reformats to match Python formatting guidelines, plus some additional rules that Black uses to increase consistency. The name \"Black\" comes from a quote from Henry Ford about the Model T car: \"Any customer can have a car painted any color that he wants so long as it is black\"."
   ]
  },
  {
   "cell_type": "markdown",
   "metadata": {},
   "source": [
    "I used to have a lot of recommendations for how to format code. Now I tell people: \"just use Black.\""
   ]
  },
  {
   "cell_type": "markdown",
   "metadata": {},
   "source": [
    "Of course, Black won't change anything about how the code runs, so there are some recommended guidelines that it won't implement. For example, it's recommended that module import statements be placed at the top of a module. This makes it easier to see what modules are being used in the file and how they are named."
   ]
  },
  {
   "cell_type": "code",
   "execution_count": 3,
   "metadata": {},
   "outputs": [],
   "source": [
    "def myfunction(x, y):\n",
    "    # add some numbers\n",
    "    z = x + y\n",
    "    return z\n",
    "\n",
    "\n",
    "import numpy as np  # not recommended (comes after other code)\n",
    "a = np.arange(6)"
   ]
  },
  {
   "cell_type": "markdown",
   "metadata": {},
   "source": [
    "We should generally move the import statement to the top of the file before other code, unless there's a good reason to import it somewhere else."
   ]
  },
  {
   "cell_type": "code",
   "execution_count": 4,
   "metadata": {},
   "outputs": [],
   "source": [
    "import numpy as np\n",
    "\n",
    "\n",
    "def myfunction(x, y):\n",
    "    # add some numbers\n",
    "    z = x + y\n",
    "    return z\n",
    "\n",
    "\n",
    "a = np.arange(6)"
   ]
  },
  {
   "cell_type": "markdown",
   "metadata": {},
   "source": [
    "Note also that Python style guidelines recommend having two lines above and below each function definition, to make them easier to spot separately from other code."
   ]
  },
  {
   "cell_type": "markdown",
   "metadata": {},
   "source": [
    "### Exercise: code style\n",
    "\n",
    "Use Black to reformat the following code. Also, make it so the import statements are all at the top of the cell."
   ]
  },
  {
   "cell_type": "code",
   "execution_count": 5,
   "metadata": {},
   "outputs": [],
   "source": [
    "import numpy as np\n",
    "b = np.zeros((1,2))\n",
    "import polars as pl\n",
    "data = pl.DataFrame({\"trial\":[1,2,3,4], \"correct\":[0,1,1,0], \"response_time\":[1.2,3.4,2.3,5.6]})"
   ]
  },
  {
   "cell_type": "markdown",
   "metadata": {},
   "source": [
    "## Coding principles\n",
    "\n",
    "Code developers have tried to explain the difference between good and bad code in various ways. We'll review a few useful principles that can help guide your programming."
   ]
  },
  {
   "cell_type": "markdown",
   "metadata": {},
   "source": [
    "### The Zen of Python\n",
    "\n",
    "The [Zen of Python](https://peps.python.org/pep-0020/) is a set of principles written by an early Python developer to describe how to write good Python code."
   ]
  },
  {
   "cell_type": "markdown",
   "metadata": {},
   "source": [
    "Here are a few of the core principles:\n",
    "\n",
    "Beautiful is better than ugly. (Good code is elegant.)\n",
    "\n",
    "Explicit is better than implicit. (Communicate your intentions.)\n",
    "\n",
    "Simple is better than complex. (Simplify when possible.)\n",
    "\n",
    "Readability counts. (Code is read more often than it is written, so make it easy to read.)\n",
    "\n",
    "There should be one-- and preferably only one --obvious way to do it. (Python tries to make it obvious how to do something.)"
   ]
  }
 ],
 "metadata": {
  "kernelspec": {
   "display_name": ".venv",
   "language": "python",
   "name": "python3"
  },
  "language_info": {
   "codemirror_mode": {
    "name": "ipython",
    "version": 3
   },
   "file_extension": ".py",
   "mimetype": "text/x-python",
   "name": "python",
   "nbconvert_exporter": "python",
   "pygments_lexer": "ipython3",
   "version": "3.12.8"
  }
 },
 "nbformat": 4,
 "nbformat_minor": 2
}
